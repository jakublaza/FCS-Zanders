{
 "cells": [
  {
   "cell_type": "code",
   "execution_count": 1,
   "metadata": {},
   "outputs": [],
   "source": [
    "import pandas as pd\n",
    "import numpy  as np\n",
    "import seaborn as sns\n",
    "import matplotlib.pyplot as plt"
   ]
  },
  {
   "cell_type": "code",
   "execution_count": 2,
   "metadata": {},
   "outputs": [],
   "source": [
    "df = pd.read_pickle('Erasmus_data_stresstesting_2024.pickle')"
   ]
  },
  {
   "cell_type": "code",
   "execution_count": 3,
   "metadata": {},
   "outputs": [],
   "source": [
    "df.iloc[1:20, :].to_csv('df_snapshot.csv')"
   ]
  },
  {
   "cell_type": "code",
   "execution_count": 16,
   "metadata": {},
   "outputs": [
    {
     "data": {
      "text/plain": [
       "0.0050195203569436695"
      ]
     },
     "execution_count": 16,
     "metadata": {},
     "output_type": "execute_result"
    }
   ],
   "source": [
    "9/1793"
   ]
  },
  {
   "cell_type": "code",
   "execution_count": 55,
   "metadata": {},
   "outputs": [
    {
     "name": "stdout",
     "output_type": "stream",
     "text": [
      "0\n",
      "3\n",
      "13\n",
      "6\n",
      "14\n",
      "16\n",
      "24\n",
      "34\n",
      "29\n",
      "73\n",
      "100\n",
      "939\n",
      "1378\n",
      "1364\n",
      "1325\n",
      "1412\n",
      "1644\n",
      "1382\n",
      "1202\n",
      "1308\n",
      "825\n",
      "695\n"
     ]
    }
   ],
   "source": [
    "for i in range(2000, 2022):\n",
    "    print(df.loc[df['status_year']==i]['default_indicator'].sum())\n"
   ]
  },
  {
   "cell_type": "code",
   "execution_count": 54,
   "metadata": {},
   "outputs": [
    {
     "data": {
      "text/plain": [
       "0"
      ]
     },
     "execution_count": 54,
     "metadata": {},
     "output_type": "execute_result"
    }
   ],
   "source": [
    "df.loc[df['status_year']==2000]['default_indicator'].sum()"
   ]
  },
  {
   "cell_type": "code",
   "execution_count": 51,
   "metadata": {},
   "outputs": [
    {
     "data": {
      "text/html": [
       "<div>\n",
       "<style scoped>\n",
       "    .dataframe tbody tr th:only-of-type {\n",
       "        vertical-align: middle;\n",
       "    }\n",
       "\n",
       "    .dataframe tbody tr th {\n",
       "        vertical-align: top;\n",
       "    }\n",
       "\n",
       "    .dataframe thead th {\n",
       "        text-align: right;\n",
       "    }\n",
       "</style>\n",
       "<table border=\"1\" class=\"dataframe\">\n",
       "  <thead>\n",
       "    <tr style=\"text-align: right;\">\n",
       "      <th></th>\n",
       "      <th>index</th>\n",
       "      <th>bvd_id_number</th>\n",
       "      <th>country_code</th>\n",
       "      <th>industry_code</th>\n",
       "      <th>size_class</th>\n",
       "      <th>status_year</th>\n",
       "      <th>status_date_latest</th>\n",
       "      <th>status_latest</th>\n",
       "      <th>default_indicator</th>\n",
       "      <th>fixed_assets_0</th>\n",
       "      <th>...</th>\n",
       "      <th>cash_flow_2</th>\n",
       "      <th>cash_flow_3</th>\n",
       "      <th>added_value_0</th>\n",
       "      <th>added_value_1</th>\n",
       "      <th>added_value_2</th>\n",
       "      <th>added_value_3</th>\n",
       "      <th>ebitda_0</th>\n",
       "      <th>ebitda_1</th>\n",
       "      <th>ebitda_2</th>\n",
       "      <th>ebitda_3</th>\n",
       "    </tr>\n",
       "  </thead>\n",
       "  <tbody>\n",
       "    <tr>\n",
       "      <th>9</th>\n",
       "      <td>7000375</td>\n",
       "      <td>IT00174710145</td>\n",
       "      <td>IT</td>\n",
       "      <td>C</td>\n",
       "      <td>SME</td>\n",
       "      <td>2006</td>\n",
       "      <td>16991231</td>\n",
       "      <td>non_default</td>\n",
       "      <td>0</td>\n",
       "      <td>1384038.0</td>\n",
       "      <td>...</td>\n",
       "      <td>263278.0</td>\n",
       "      <td>286875.0</td>\n",
       "      <td>814785.0</td>\n",
       "      <td>834961.0</td>\n",
       "      <td>832154.0</td>\n",
       "      <td>767041.0</td>\n",
       "      <td>294436.0</td>\n",
       "      <td>323697.0</td>\n",
       "      <td>363494.0</td>\n",
       "      <td>313583.0</td>\n",
       "    </tr>\n",
       "    <tr>\n",
       "      <th>10</th>\n",
       "      <td>7000376</td>\n",
       "      <td>IT00174710145</td>\n",
       "      <td>IT</td>\n",
       "      <td>C</td>\n",
       "      <td>SME</td>\n",
       "      <td>2005</td>\n",
       "      <td>16991231</td>\n",
       "      <td>non_default</td>\n",
       "      <td>0</td>\n",
       "      <td>1067546.0</td>\n",
       "      <td>...</td>\n",
       "      <td>286875.0</td>\n",
       "      <td>291243.0</td>\n",
       "      <td>834961.0</td>\n",
       "      <td>832154.0</td>\n",
       "      <td>767041.0</td>\n",
       "      <td>746729.0</td>\n",
       "      <td>323697.0</td>\n",
       "      <td>363494.0</td>\n",
       "      <td>313583.0</td>\n",
       "      <td>304113.0</td>\n",
       "    </tr>\n",
       "    <tr>\n",
       "      <th>15</th>\n",
       "      <td>7003156</td>\n",
       "      <td>SE5564586948</td>\n",
       "      <td>SE</td>\n",
       "      <td>C</td>\n",
       "      <td>SME</td>\n",
       "      <td>2012</td>\n",
       "      <td>16991231</td>\n",
       "      <td>non_default</td>\n",
       "      <td>0</td>\n",
       "      <td>3341981.0</td>\n",
       "      <td>...</td>\n",
       "      <td>-923462.0</td>\n",
       "      <td>495902.0</td>\n",
       "      <td>1768811.0</td>\n",
       "      <td>2787704.0</td>\n",
       "      <td>2495711.0</td>\n",
       "      <td>NaN</td>\n",
       "      <td>-635397.0</td>\n",
       "      <td>385997.0</td>\n",
       "      <td>-879095.0</td>\n",
       "      <td>514532.0</td>\n",
       "    </tr>\n",
       "    <tr>\n",
       "      <th>18</th>\n",
       "      <td>7000109</td>\n",
       "      <td>UA24658276</td>\n",
       "      <td>UA</td>\n",
       "      <td>C</td>\n",
       "      <td>SME</td>\n",
       "      <td>2009</td>\n",
       "      <td>16991231</td>\n",
       "      <td>non_default</td>\n",
       "      <td>0</td>\n",
       "      <td>5636087.0</td>\n",
       "      <td>...</td>\n",
       "      <td>520493.0</td>\n",
       "      <td>-339445.0</td>\n",
       "      <td>NaN</td>\n",
       "      <td>NaN</td>\n",
       "      <td>2223147.0</td>\n",
       "      <td>1741338.0</td>\n",
       "      <td>-628173.0</td>\n",
       "      <td>248225.0</td>\n",
       "      <td>647193.0</td>\n",
       "      <td>-153213.0</td>\n",
       "    </tr>\n",
       "    <tr>\n",
       "      <th>25</th>\n",
       "      <td>7003043</td>\n",
       "      <td>IT02421270162</td>\n",
       "      <td>IT</td>\n",
       "      <td>C</td>\n",
       "      <td>SME</td>\n",
       "      <td>2019</td>\n",
       "      <td>16991231</td>\n",
       "      <td>non_default</td>\n",
       "      <td>0</td>\n",
       "      <td>4437739.0</td>\n",
       "      <td>...</td>\n",
       "      <td>233084.0</td>\n",
       "      <td>263087.0</td>\n",
       "      <td>2116978.0</td>\n",
       "      <td>1907583.0</td>\n",
       "      <td>1592715.0</td>\n",
       "      <td>1343782.0</td>\n",
       "      <td>692973.0</td>\n",
       "      <td>425306.0</td>\n",
       "      <td>387752.0</td>\n",
       "      <td>348976.0</td>\n",
       "    </tr>\n",
       "    <tr>\n",
       "      <th>...</th>\n",
       "      <td>...</td>\n",
       "      <td>...</td>\n",
       "      <td>...</td>\n",
       "      <td>...</td>\n",
       "      <td>...</td>\n",
       "      <td>...</td>\n",
       "      <td>...</td>\n",
       "      <td>...</td>\n",
       "      <td>...</td>\n",
       "      <td>...</td>\n",
       "      <td>...</td>\n",
       "      <td>...</td>\n",
       "      <td>...</td>\n",
       "      <td>...</td>\n",
       "      <td>...</td>\n",
       "      <td>...</td>\n",
       "      <td>...</td>\n",
       "      <td>...</td>\n",
       "      <td>...</td>\n",
       "      <td>...</td>\n",
       "      <td>...</td>\n",
       "    </tr>\n",
       "    <tr>\n",
       "      <th>1526929</th>\n",
       "      <td>331533936</td>\n",
       "      <td>GB00150911</td>\n",
       "      <td>GB</td>\n",
       "      <td>C</td>\n",
       "      <td>SME</td>\n",
       "      <td>2006</td>\n",
       "      <td>16991231</td>\n",
       "      <td>non_default</td>\n",
       "      <td>0</td>\n",
       "      <td>1225509.0</td>\n",
       "      <td>...</td>\n",
       "      <td>242615.0</td>\n",
       "      <td>298971.0</td>\n",
       "      <td>2517778.0</td>\n",
       "      <td>2554823.0</td>\n",
       "      <td>2670289.0</td>\n",
       "      <td>NaN</td>\n",
       "      <td>49648.0</td>\n",
       "      <td>350668.0</td>\n",
       "      <td>331206.0</td>\n",
       "      <td>396213.0</td>\n",
       "    </tr>\n",
       "    <tr>\n",
       "      <th>1526934</th>\n",
       "      <td>395339735</td>\n",
       "      <td>DE6110032026</td>\n",
       "      <td>DE</td>\n",
       "      <td>C</td>\n",
       "      <td>SME</td>\n",
       "      <td>2019</td>\n",
       "      <td>16991231</td>\n",
       "      <td>non_default</td>\n",
       "      <td>0</td>\n",
       "      <td>120224.0</td>\n",
       "      <td>...</td>\n",
       "      <td>NaN</td>\n",
       "      <td>NaN</td>\n",
       "      <td>NaN</td>\n",
       "      <td>NaN</td>\n",
       "      <td>NaN</td>\n",
       "      <td>NaN</td>\n",
       "      <td>NaN</td>\n",
       "      <td>NaN</td>\n",
       "      <td>NaN</td>\n",
       "      <td>NaN</td>\n",
       "    </tr>\n",
       "    <tr>\n",
       "      <th>1526935</th>\n",
       "      <td>395365784</td>\n",
       "      <td>DE6090005259</td>\n",
       "      <td>DE</td>\n",
       "      <td>C</td>\n",
       "      <td>SME</td>\n",
       "      <td>2020</td>\n",
       "      <td>16991231</td>\n",
       "      <td>non_default</td>\n",
       "      <td>0</td>\n",
       "      <td>2436483.0</td>\n",
       "      <td>...</td>\n",
       "      <td>NaN</td>\n",
       "      <td>NaN</td>\n",
       "      <td>NaN</td>\n",
       "      <td>NaN</td>\n",
       "      <td>NaN</td>\n",
       "      <td>NaN</td>\n",
       "      <td>NaN</td>\n",
       "      <td>NaN</td>\n",
       "      <td>NaN</td>\n",
       "      <td>NaN</td>\n",
       "    </tr>\n",
       "    <tr>\n",
       "      <th>1526955</th>\n",
       "      <td>395389228</td>\n",
       "      <td>DE6090070444</td>\n",
       "      <td>DE</td>\n",
       "      <td>C</td>\n",
       "      <td>SME</td>\n",
       "      <td>2019</td>\n",
       "      <td>16991231</td>\n",
       "      <td>non_default</td>\n",
       "      <td>0</td>\n",
       "      <td>1836948.0</td>\n",
       "      <td>...</td>\n",
       "      <td>NaN</td>\n",
       "      <td>NaN</td>\n",
       "      <td>NaN</td>\n",
       "      <td>NaN</td>\n",
       "      <td>NaN</td>\n",
       "      <td>NaN</td>\n",
       "      <td>NaN</td>\n",
       "      <td>NaN</td>\n",
       "      <td>NaN</td>\n",
       "      <td>NaN</td>\n",
       "    </tr>\n",
       "    <tr>\n",
       "      <th>1526960</th>\n",
       "      <td>341835294</td>\n",
       "      <td>RU40529130</td>\n",
       "      <td>RU</td>\n",
       "      <td>C</td>\n",
       "      <td>SME</td>\n",
       "      <td>2011</td>\n",
       "      <td>16991231</td>\n",
       "      <td>non_default</td>\n",
       "      <td>0</td>\n",
       "      <td>34792920.0</td>\n",
       "      <td>...</td>\n",
       "      <td>NaN</td>\n",
       "      <td>NaN</td>\n",
       "      <td>NaN</td>\n",
       "      <td>NaN</td>\n",
       "      <td>NaN</td>\n",
       "      <td>NaN</td>\n",
       "      <td>NaN</td>\n",
       "      <td>NaN</td>\n",
       "      <td>NaN</td>\n",
       "      <td>NaN</td>\n",
       "    </tr>\n",
       "  </tbody>\n",
       "</table>\n",
       "<p>318958 rows × 213 columns</p>\n",
       "</div>"
      ],
      "text/plain": [
       "             index  bvd_id_number country_code industry_code size_class  \\\n",
       "9          7000375  IT00174710145           IT             C        SME   \n",
       "10         7000376  IT00174710145           IT             C        SME   \n",
       "15         7003156   SE5564586948           SE             C        SME   \n",
       "18         7000109     UA24658276           UA             C        SME   \n",
       "25         7003043  IT02421270162           IT             C        SME   \n",
       "...            ...            ...          ...           ...        ...   \n",
       "1526929  331533936     GB00150911           GB             C        SME   \n",
       "1526934  395339735   DE6110032026           DE             C        SME   \n",
       "1526935  395365784   DE6090005259           DE             C        SME   \n",
       "1526955  395389228   DE6090070444           DE             C        SME   \n",
       "1526960  341835294     RU40529130           RU             C        SME   \n",
       "\n",
       "         status_year  status_date_latest status_latest  default_indicator  \\\n",
       "9               2006            16991231   non_default                  0   \n",
       "10              2005            16991231   non_default                  0   \n",
       "15              2012            16991231   non_default                  0   \n",
       "18              2009            16991231   non_default                  0   \n",
       "25              2019            16991231   non_default                  0   \n",
       "...              ...                 ...           ...                ...   \n",
       "1526929         2006            16991231   non_default                  0   \n",
       "1526934         2019            16991231   non_default                  0   \n",
       "1526935         2020            16991231   non_default                  0   \n",
       "1526955         2019            16991231   non_default                  0   \n",
       "1526960         2011            16991231   non_default                  0   \n",
       "\n",
       "         fixed_assets_0  ...  cash_flow_2  cash_flow_3  added_value_0  \\\n",
       "9             1384038.0  ...     263278.0     286875.0       814785.0   \n",
       "10            1067546.0  ...     286875.0     291243.0       834961.0   \n",
       "15            3341981.0  ...    -923462.0     495902.0      1768811.0   \n",
       "18            5636087.0  ...     520493.0    -339445.0            NaN   \n",
       "25            4437739.0  ...     233084.0     263087.0      2116978.0   \n",
       "...                 ...  ...          ...          ...            ...   \n",
       "1526929       1225509.0  ...     242615.0     298971.0      2517778.0   \n",
       "1526934        120224.0  ...          NaN          NaN            NaN   \n",
       "1526935       2436483.0  ...          NaN          NaN            NaN   \n",
       "1526955       1836948.0  ...          NaN          NaN            NaN   \n",
       "1526960      34792920.0  ...          NaN          NaN            NaN   \n",
       "\n",
       "         added_value_1  added_value_2  added_value_3  ebitda_0  ebitda_1  \\\n",
       "9             834961.0       832154.0       767041.0  294436.0  323697.0   \n",
       "10            832154.0       767041.0       746729.0  323697.0  363494.0   \n",
       "15           2787704.0      2495711.0            NaN -635397.0  385997.0   \n",
       "18                 NaN      2223147.0      1741338.0 -628173.0  248225.0   \n",
       "25           1907583.0      1592715.0      1343782.0  692973.0  425306.0   \n",
       "...                ...            ...            ...       ...       ...   \n",
       "1526929      2554823.0      2670289.0            NaN   49648.0  350668.0   \n",
       "1526934            NaN            NaN            NaN       NaN       NaN   \n",
       "1526935            NaN            NaN            NaN       NaN       NaN   \n",
       "1526955            NaN            NaN            NaN       NaN       NaN   \n",
       "1526960            NaN            NaN            NaN       NaN       NaN   \n",
       "\n",
       "         ebitda_2  ebitda_3  \n",
       "9        363494.0  313583.0  \n",
       "10       313583.0  304113.0  \n",
       "15      -879095.0  514532.0  \n",
       "18       647193.0 -153213.0  \n",
       "25       387752.0  348976.0  \n",
       "...           ...       ...  \n",
       "1526929  331206.0  396213.0  \n",
       "1526934       NaN       NaN  \n",
       "1526935       NaN       NaN  \n",
       "1526955       NaN       NaN  \n",
       "1526960       NaN       NaN  \n",
       "\n",
       "[318958 rows x 213 columns]"
      ]
     },
     "execution_count": 51,
     "metadata": {},
     "output_type": "execute_result"
    }
   ],
   "source": [
    "df.loc[df['industry_code']== 'C']"
   ]
  },
  {
   "cell_type": "code",
   "execution_count": 115,
   "metadata": {},
   "outputs": [
    {
     "data": {
      "text/plain": [
       "380054"
      ]
     },
     "execution_count": 115,
     "metadata": {},
     "output_type": "execute_result"
    }
   ],
   "source": [
    "len(df.loc[:, l].dropna()['bvd_id_number'].unique())"
   ]
  },
  {
   "cell_type": "code",
   "execution_count": 117,
   "metadata": {},
   "outputs": [],
   "source": [
    "df2 = df.loc[:, l].dropna()"
   ]
  },
  {
   "cell_type": "code",
   "execution_count": 99,
   "metadata": {},
   "outputs": [
    {
     "data": {
      "text/plain": [
       "9873"
      ]
     },
     "execution_count": 99,
     "metadata": {},
     "output_type": "execute_result"
    }
   ],
   "source": [
    "df.loc[:, l].dropna()['default_indicator'].sum()"
   ]
  },
  {
   "cell_type": "code",
   "execution_count": 107,
   "metadata": {},
   "outputs": [
    {
     "data": {
      "text/plain": [
       "380054"
      ]
     },
     "execution_count": 107,
     "metadata": {},
     "output_type": "execute_result"
    }
   ],
   "source": [
    "len(df.loc[:, l].dropna()['bvd_id_number'].unique())"
   ]
  },
  {
   "cell_type": "code",
   "execution_count": 108,
   "metadata": {},
   "outputs": [
    {
     "data": {
      "text/plain": [
       "0.02597788735284986"
      ]
     },
     "execution_count": 108,
     "metadata": {},
     "output_type": "execute_result"
    }
   ],
   "source": [
    "9873/380054"
   ]
  },
  {
   "cell_type": "code",
   "execution_count": 102,
   "metadata": {},
   "outputs": [
    {
     "data": {
      "text/plain": [
       "0.009715654967796535"
      ]
     },
     "execution_count": 102,
     "metadata": {},
     "output_type": "execute_result"
    }
   ],
   "source": [
    "9873/df.loc[:, l].dropna().shape[0]\n"
   ]
  },
  {
   "cell_type": "code",
   "execution_count": 104,
   "metadata": {},
   "outputs": [
    {
     "data": {
      "text/plain": [
       "0.009292864730205675"
      ]
     },
     "execution_count": 104,
     "metadata": {},
     "output_type": "execute_result"
    }
   ],
   "source": [
    "df['default_indicator'].sum()/df['default_indicator'].shape[0]"
   ]
  },
  {
   "cell_type": "code",
   "execution_count": 89,
   "metadata": {},
   "outputs": [
    {
     "name": "stdout",
     "output_type": "stream",
     "text": [
      "['index', 'bvd_id_number', 'country_code', 'industry_code', 'size_class', 'status_year', 'status_date_latest', 'status_latest', 'default_indicator', 'fixed_assets_0', 'intangible_fixed_assets_0', 'tangible_fixed_assets_0', 'other_fixed_assets_0', 'current_assets_0', 'stock_0', 'debtors_0', 'other_current_assets_0', 'cash_cash_equivalent_0', 'total_assets_0', 'shareholders_funds_0', 'capital_0', 'other_shareholders_funds_0', 'noncurrent_liabilities_0', 'long_term_debt_0', 'other_noncurrent_liabilities_0', 'current_liabilities_0', 'loans_0', 'creditors_0', 'other_current_liabilities_0', 'total_shareh_funds_liab_0', 'working_capital_0', 'operating_revenue_0', 'operating_pl_ebit_0', 'financial_expenses_0', 'financial_pl_0', 'pl_before_tax_0', 'taxation_0', 'pl_after_tax_0', 'pl_for_period_net_income_0']\n"
     ]
    }
   ],
   "source": [
    "print(df.loc[:, l].dropna().columns.tolist())"
   ]
  },
  {
   "cell_type": "code",
   "execution_count": 82,
   "metadata": {},
   "outputs": [],
   "source": [
    "l = []\n",
    "x = [df.isna().sum() < 200000]\n",
    "for i in range(len([df.isna().sum() < 200000][0])):\n",
    "    l.append(x[0][i])"
   ]
  },
  {
   "cell_type": "code",
   "execution_count": 76,
   "metadata": {},
   "outputs": [
    {
     "data": {
      "text/plain": [
       "213"
      ]
     },
     "execution_count": 76,
     "metadata": {},
     "output_type": "execute_result"
    }
   ],
   "source": [
    "len([df.isna().sum() < 200000][0])\n"
   ]
  },
  {
   "cell_type": "code",
   "execution_count": null,
   "metadata": {},
   "outputs": [],
   "source": []
  },
  {
   "cell_type": "code",
   "execution_count": 96,
   "metadata": {},
   "outputs": [
    {
     "data": {
      "text/plain": [
       "array(['non_default'], dtype=object)"
      ]
     },
     "execution_count": 96,
     "metadata": {},
     "output_type": "execute_result"
    }
   ],
   "source": [
    "df['status_latest'].unique()"
   ]
  },
  {
   "cell_type": "code",
   "execution_count": 72,
   "metadata": {},
   "outputs": [
    {
     "data": {
      "text/plain": [
       "True"
      ]
     },
     "execution_count": 72,
     "metadata": {},
     "output_type": "execute_result"
    }
   ],
   "source": [
    "[df.isna().sum() < 200000][0][0]"
   ]
  },
  {
   "cell_type": "code",
   "execution_count": 113,
   "metadata": {},
   "outputs": [
    {
     "data": {
      "text/plain": [
       "array(['G', 'F', 'A', 'N', 'GX', 'C', 'D', 'J', 'M', 'K', 'H', 'L', 'Q',\n",
       "       'P', 'S', 'B', 'E', 'I', 'R'], dtype=object)"
      ]
     },
     "execution_count": 113,
     "metadata": {},
     "output_type": "execute_result"
    }
   ],
   "source": [
    "df['industry_code'].unique()"
   ]
  },
  {
   "cell_type": "code",
   "execution_count": 37,
   "metadata": {},
   "outputs": [
    {
     "data": {
      "text/plain": [
       "556866"
      ]
     },
     "execution_count": 37,
     "metadata": {},
     "output_type": "execute_result"
    }
   ],
   "source": [
    "len(df['bvd_id_number'].unique())"
   ]
  },
  {
   "cell_type": "code",
   "execution_count": 29,
   "metadata": {},
   "outputs": [
    {
     "data": {
      "text/plain": [
       "0.009292864730205675"
      ]
     },
     "execution_count": 29,
     "metadata": {},
     "output_type": "execute_result"
    }
   ],
   "source": [
    "df['default_indicator'].sum()/df.shape[0]"
   ]
  },
  {
   "cell_type": "code",
   "execution_count": 7,
   "metadata": {},
   "outputs": [
    {
     "data": {
      "text/plain": [
       "array(['non_default'], dtype=object)"
      ]
     },
     "execution_count": 7,
     "metadata": {},
     "output_type": "execute_result"
    }
   ],
   "source": [
    "df['status_latest'].unique()"
   ]
  },
  {
   "cell_type": "code",
   "execution_count": 110,
   "metadata": {},
   "outputs": [
    {
     "data": {
      "text/plain": [
       "array(['DE', 'RU', 'ES', 'IT', 'PL', 'SE', 'UA', 'NO', 'NL', 'CO', 'GB',\n",
       "       'BG', 'HR', 'RO', 'LT', 'CZ', 'PT', 'HU', 'FI', 'SK', 'SI', 'DK',\n",
       "       'RS', 'AT', 'AU', 'US', 'IS', 'BE', 'KZ', 'BY', 'AM', 'GE', 'MU',\n",
       "       'MD', 'LV'], dtype=object)"
      ]
     },
     "execution_count": 110,
     "metadata": {},
     "output_type": "execute_result"
    }
   ],
   "source": [
    "df['country_code'].unique()"
   ]
  },
  {
   "cell_type": "code",
   "execution_count": 346,
   "metadata": {},
   "outputs": [
    {
     "name": "stderr",
     "output_type": "stream",
     "text": [
      "/var/folders/d4/9slshl753db8_3y7dktkm6gw0000gn/T/ipykernel_41957/479982611.py:1: UserWarning: Boolean Series key will be reindexed to match DataFrame index.\n",
      "  df2[df['country_code'] == 'IT']\n"
     ]
    },
    {
     "data": {
      "text/html": [
       "<div>\n",
       "<style scoped>\n",
       "    .dataframe tbody tr th:only-of-type {\n",
       "        vertical-align: middle;\n",
       "    }\n",
       "\n",
       "    .dataframe tbody tr th {\n",
       "        vertical-align: top;\n",
       "    }\n",
       "\n",
       "    .dataframe thead th {\n",
       "        text-align: right;\n",
       "    }\n",
       "</style>\n",
       "<table border=\"1\" class=\"dataframe\">\n",
       "  <thead>\n",
       "    <tr style=\"text-align: right;\">\n",
       "      <th></th>\n",
       "      <th>index</th>\n",
       "      <th>bvd_id_number</th>\n",
       "      <th>country_code</th>\n",
       "      <th>industry_code</th>\n",
       "      <th>size_class</th>\n",
       "      <th>status_year</th>\n",
       "      <th>status_date_latest</th>\n",
       "      <th>status_latest</th>\n",
       "      <th>default_indicator</th>\n",
       "      <th>fixed_assets_0</th>\n",
       "      <th>...</th>\n",
       "      <th>total_shareh_funds_liab_0</th>\n",
       "      <th>working_capital_0</th>\n",
       "      <th>operating_revenue_0</th>\n",
       "      <th>operating_pl_ebit_0</th>\n",
       "      <th>financial_expenses_0</th>\n",
       "      <th>financial_pl_0</th>\n",
       "      <th>pl_before_tax_0</th>\n",
       "      <th>taxation_0</th>\n",
       "      <th>pl_after_tax_0</th>\n",
       "      <th>pl_for_period_net_income_0</th>\n",
       "    </tr>\n",
       "  </thead>\n",
       "  <tbody>\n",
       "    <tr>\n",
       "      <th>9</th>\n",
       "      <td>7000375</td>\n",
       "      <td>IT00174710145</td>\n",
       "      <td>IT</td>\n",
       "      <td>C</td>\n",
       "      <td>SME</td>\n",
       "      <td>2006</td>\n",
       "      <td>16991231</td>\n",
       "      <td>non_default</td>\n",
       "      <td>0</td>\n",
       "      <td>1384038.0</td>\n",
       "      <td>...</td>\n",
       "      <td>3128339.0</td>\n",
       "      <td>-1290288.0</td>\n",
       "      <td>7153464.0</td>\n",
       "      <td>157932.0</td>\n",
       "      <td>10463.0</td>\n",
       "      <td>1948.0</td>\n",
       "      <td>159880.0</td>\n",
       "      <td>99269.0</td>\n",
       "      <td>60611.0</td>\n",
       "      <td>60611.0</td>\n",
       "    </tr>\n",
       "    <tr>\n",
       "      <th>10</th>\n",
       "      <td>7000376</td>\n",
       "      <td>IT00174710145</td>\n",
       "      <td>IT</td>\n",
       "      <td>C</td>\n",
       "      <td>SME</td>\n",
       "      <td>2005</td>\n",
       "      <td>16991231</td>\n",
       "      <td>non_default</td>\n",
       "      <td>0</td>\n",
       "      <td>1067546.0</td>\n",
       "      <td>...</td>\n",
       "      <td>2078526.0</td>\n",
       "      <td>-453473.0</td>\n",
       "      <td>6622374.0</td>\n",
       "      <td>213750.0</td>\n",
       "      <td>8737.0</td>\n",
       "      <td>-380.0</td>\n",
       "      <td>213370.0</td>\n",
       "      <td>103094.0</td>\n",
       "      <td>110276.0</td>\n",
       "      <td>110276.0</td>\n",
       "    </tr>\n",
       "    <tr>\n",
       "      <th>11</th>\n",
       "      <td>7000905</td>\n",
       "      <td>IT02969620133</td>\n",
       "      <td>IT</td>\n",
       "      <td>G</td>\n",
       "      <td>SME</td>\n",
       "      <td>2019</td>\n",
       "      <td>16991231</td>\n",
       "      <td>non_default</td>\n",
       "      <td>0</td>\n",
       "      <td>925814.0</td>\n",
       "      <td>...</td>\n",
       "      <td>5918714.0</td>\n",
       "      <td>3757057.0</td>\n",
       "      <td>8982328.0</td>\n",
       "      <td>818680.0</td>\n",
       "      <td>14099.0</td>\n",
       "      <td>-8099.0</td>\n",
       "      <td>810581.0</td>\n",
       "      <td>247588.0</td>\n",
       "      <td>562993.0</td>\n",
       "      <td>562993.0</td>\n",
       "    </tr>\n",
       "    <tr>\n",
       "      <th>12</th>\n",
       "      <td>7000907</td>\n",
       "      <td>IT02969620133</td>\n",
       "      <td>IT</td>\n",
       "      <td>G</td>\n",
       "      <td>SME</td>\n",
       "      <td>2017</td>\n",
       "      <td>16991231</td>\n",
       "      <td>non_default</td>\n",
       "      <td>0</td>\n",
       "      <td>878699.0</td>\n",
       "      <td>...</td>\n",
       "      <td>4304819.0</td>\n",
       "      <td>2473106.0</td>\n",
       "      <td>6502724.0</td>\n",
       "      <td>143068.0</td>\n",
       "      <td>3806.0</td>\n",
       "      <td>28116.0</td>\n",
       "      <td>171184.0</td>\n",
       "      <td>62097.0</td>\n",
       "      <td>109087.0</td>\n",
       "      <td>109087.0</td>\n",
       "    </tr>\n",
       "    <tr>\n",
       "      <th>16</th>\n",
       "      <td>7003402</td>\n",
       "      <td>IT05253550965</td>\n",
       "      <td>IT</td>\n",
       "      <td>J</td>\n",
       "      <td>SME</td>\n",
       "      <td>2014</td>\n",
       "      <td>16991231</td>\n",
       "      <td>non_default</td>\n",
       "      <td>0</td>\n",
       "      <td>1093289.0</td>\n",
       "      <td>...</td>\n",
       "      <td>7564534.0</td>\n",
       "      <td>0.0</td>\n",
       "      <td>8103962.0</td>\n",
       "      <td>1696660.0</td>\n",
       "      <td>9672.0</td>\n",
       "      <td>-6765.0</td>\n",
       "      <td>1689895.0</td>\n",
       "      <td>637300.0</td>\n",
       "      <td>1052595.0</td>\n",
       "      <td>1061759.0</td>\n",
       "    </tr>\n",
       "    <tr>\n",
       "      <th>...</th>\n",
       "      <td>...</td>\n",
       "      <td>...</td>\n",
       "      <td>...</td>\n",
       "      <td>...</td>\n",
       "      <td>...</td>\n",
       "      <td>...</td>\n",
       "      <td>...</td>\n",
       "      <td>...</td>\n",
       "      <td>...</td>\n",
       "      <td>...</td>\n",
       "      <td>...</td>\n",
       "      <td>...</td>\n",
       "      <td>...</td>\n",
       "      <td>...</td>\n",
       "      <td>...</td>\n",
       "      <td>...</td>\n",
       "      <td>...</td>\n",
       "      <td>...</td>\n",
       "      <td>...</td>\n",
       "      <td>...</td>\n",
       "      <td>...</td>\n",
       "    </tr>\n",
       "    <tr>\n",
       "      <th>1526917</th>\n",
       "      <td>430272630</td>\n",
       "      <td>IT00726060155</td>\n",
       "      <td>IT</td>\n",
       "      <td>C</td>\n",
       "      <td>SME</td>\n",
       "      <td>2011</td>\n",
       "      <td>16991231</td>\n",
       "      <td>non_default</td>\n",
       "      <td>1</td>\n",
       "      <td>4697330.0</td>\n",
       "      <td>...</td>\n",
       "      <td>11114746.0</td>\n",
       "      <td>3588397.0</td>\n",
       "      <td>5717913.0</td>\n",
       "      <td>142477.0</td>\n",
       "      <td>198337.0</td>\n",
       "      <td>-169554.0</td>\n",
       "      <td>-27077.0</td>\n",
       "      <td>65966.0</td>\n",
       "      <td>-93043.0</td>\n",
       "      <td>6210.0</td>\n",
       "    </tr>\n",
       "    <tr>\n",
       "      <th>1526923</th>\n",
       "      <td>86196217</td>\n",
       "      <td>IT01588300465</td>\n",
       "      <td>IT</td>\n",
       "      <td>G</td>\n",
       "      <td>SME</td>\n",
       "      <td>2017</td>\n",
       "      <td>16991231</td>\n",
       "      <td>non_default</td>\n",
       "      <td>0</td>\n",
       "      <td>257513.0</td>\n",
       "      <td>...</td>\n",
       "      <td>6572480.0</td>\n",
       "      <td>4403884.0</td>\n",
       "      <td>5978998.0</td>\n",
       "      <td>-126172.0</td>\n",
       "      <td>100350.0</td>\n",
       "      <td>-95926.0</td>\n",
       "      <td>-222098.0</td>\n",
       "      <td>2775.0</td>\n",
       "      <td>-224873.0</td>\n",
       "      <td>-224873.0</td>\n",
       "    </tr>\n",
       "    <tr>\n",
       "      <th>1526925</th>\n",
       "      <td>233482640</td>\n",
       "      <td>IT01998880486</td>\n",
       "      <td>IT</td>\n",
       "      <td>G</td>\n",
       "      <td>SME</td>\n",
       "      <td>2013</td>\n",
       "      <td>16991231</td>\n",
       "      <td>non_default</td>\n",
       "      <td>0</td>\n",
       "      <td>375161.0</td>\n",
       "      <td>...</td>\n",
       "      <td>2839242.0</td>\n",
       "      <td>1058990.0</td>\n",
       "      <td>8685090.0</td>\n",
       "      <td>-81389.0</td>\n",
       "      <td>6822.0</td>\n",
       "      <td>-6019.0</td>\n",
       "      <td>-87408.0</td>\n",
       "      <td>-9044.0</td>\n",
       "      <td>-78364.0</td>\n",
       "      <td>-73872.0</td>\n",
       "    </tr>\n",
       "    <tr>\n",
       "      <th>1526940</th>\n",
       "      <td>430282806</td>\n",
       "      <td>IT00735460347</td>\n",
       "      <td>IT</td>\n",
       "      <td>G</td>\n",
       "      <td>SME</td>\n",
       "      <td>2010</td>\n",
       "      <td>16991231</td>\n",
       "      <td>non_default</td>\n",
       "      <td>0</td>\n",
       "      <td>2527102.0</td>\n",
       "      <td>...</td>\n",
       "      <td>2803597.0</td>\n",
       "      <td>-50886.0</td>\n",
       "      <td>7644379.0</td>\n",
       "      <td>-872244.0</td>\n",
       "      <td>136598.0</td>\n",
       "      <td>-90128.0</td>\n",
       "      <td>-962372.0</td>\n",
       "      <td>0.0</td>\n",
       "      <td>-962372.0</td>\n",
       "      <td>221392.0</td>\n",
       "    </tr>\n",
       "    <tr>\n",
       "      <th>1526971</th>\n",
       "      <td>430303751</td>\n",
       "      <td>IT00811420629</td>\n",
       "      <td>IT</td>\n",
       "      <td>G</td>\n",
       "      <td>SME</td>\n",
       "      <td>2006</td>\n",
       "      <td>16991231</td>\n",
       "      <td>non_default</td>\n",
       "      <td>0</td>\n",
       "      <td>217631.0</td>\n",
       "      <td>...</td>\n",
       "      <td>2281206.0</td>\n",
       "      <td>431790.0</td>\n",
       "      <td>6907539.0</td>\n",
       "      <td>299372.0</td>\n",
       "      <td>1480.0</td>\n",
       "      <td>15539.0</td>\n",
       "      <td>314911.0</td>\n",
       "      <td>132611.0</td>\n",
       "      <td>182300.0</td>\n",
       "      <td>182300.0</td>\n",
       "    </tr>\n",
       "  </tbody>\n",
       "</table>\n",
       "<p>304196 rows × 39 columns</p>\n",
       "</div>"
      ],
      "text/plain": [
       "             index  bvd_id_number country_code industry_code size_class  \\\n",
       "9          7000375  IT00174710145           IT             C        SME   \n",
       "10         7000376  IT00174710145           IT             C        SME   \n",
       "11         7000905  IT02969620133           IT             G        SME   \n",
       "12         7000907  IT02969620133           IT             G        SME   \n",
       "16         7003402  IT05253550965           IT             J        SME   \n",
       "...            ...            ...          ...           ...        ...   \n",
       "1526917  430272630  IT00726060155           IT             C        SME   \n",
       "1526923   86196217  IT01588300465           IT             G        SME   \n",
       "1526925  233482640  IT01998880486           IT             G        SME   \n",
       "1526940  430282806  IT00735460347           IT             G        SME   \n",
       "1526971  430303751  IT00811420629           IT             G        SME   \n",
       "\n",
       "         status_year  status_date_latest status_latest  default_indicator  \\\n",
       "9               2006            16991231   non_default                  0   \n",
       "10              2005            16991231   non_default                  0   \n",
       "11              2019            16991231   non_default                  0   \n",
       "12              2017            16991231   non_default                  0   \n",
       "16              2014            16991231   non_default                  0   \n",
       "...              ...                 ...           ...                ...   \n",
       "1526917         2011            16991231   non_default                  1   \n",
       "1526923         2017            16991231   non_default                  0   \n",
       "1526925         2013            16991231   non_default                  0   \n",
       "1526940         2010            16991231   non_default                  0   \n",
       "1526971         2006            16991231   non_default                  0   \n",
       "\n",
       "         fixed_assets_0  ...  total_shareh_funds_liab_0  working_capital_0  \\\n",
       "9             1384038.0  ...                  3128339.0         -1290288.0   \n",
       "10            1067546.0  ...                  2078526.0          -453473.0   \n",
       "11             925814.0  ...                  5918714.0          3757057.0   \n",
       "12             878699.0  ...                  4304819.0          2473106.0   \n",
       "16            1093289.0  ...                  7564534.0                0.0   \n",
       "...                 ...  ...                        ...                ...   \n",
       "1526917       4697330.0  ...                 11114746.0          3588397.0   \n",
       "1526923        257513.0  ...                  6572480.0          4403884.0   \n",
       "1526925        375161.0  ...                  2839242.0          1058990.0   \n",
       "1526940       2527102.0  ...                  2803597.0           -50886.0   \n",
       "1526971        217631.0  ...                  2281206.0           431790.0   \n",
       "\n",
       "         operating_revenue_0  operating_pl_ebit_0  financial_expenses_0  \\\n",
       "9                  7153464.0             157932.0               10463.0   \n",
       "10                 6622374.0             213750.0                8737.0   \n",
       "11                 8982328.0             818680.0               14099.0   \n",
       "12                 6502724.0             143068.0                3806.0   \n",
       "16                 8103962.0            1696660.0                9672.0   \n",
       "...                      ...                  ...                   ...   \n",
       "1526917            5717913.0             142477.0              198337.0   \n",
       "1526923            5978998.0            -126172.0              100350.0   \n",
       "1526925            8685090.0             -81389.0                6822.0   \n",
       "1526940            7644379.0            -872244.0              136598.0   \n",
       "1526971            6907539.0             299372.0                1480.0   \n",
       "\n",
       "         financial_pl_0  pl_before_tax_0  taxation_0  pl_after_tax_0  \\\n",
       "9                1948.0         159880.0     99269.0         60611.0   \n",
       "10               -380.0         213370.0    103094.0        110276.0   \n",
       "11              -8099.0         810581.0    247588.0        562993.0   \n",
       "12              28116.0         171184.0     62097.0        109087.0   \n",
       "16              -6765.0        1689895.0    637300.0       1052595.0   \n",
       "...                 ...              ...         ...             ...   \n",
       "1526917       -169554.0         -27077.0     65966.0        -93043.0   \n",
       "1526923        -95926.0        -222098.0      2775.0       -224873.0   \n",
       "1526925         -6019.0         -87408.0     -9044.0        -78364.0   \n",
       "1526940        -90128.0        -962372.0         0.0       -962372.0   \n",
       "1526971         15539.0         314911.0    132611.0        182300.0   \n",
       "\n",
       "         pl_for_period_net_income_0  \n",
       "9                           60611.0  \n",
       "10                         110276.0  \n",
       "11                         562993.0  \n",
       "12                         109087.0  \n",
       "16                        1061759.0  \n",
       "...                             ...  \n",
       "1526917                      6210.0  \n",
       "1526923                   -224873.0  \n",
       "1526925                    -73872.0  \n",
       "1526940                    221392.0  \n",
       "1526971                    182300.0  \n",
       "\n",
       "[304196 rows x 39 columns]"
      ]
     },
     "execution_count": 346,
     "metadata": {},
     "output_type": "execute_result"
    }
   ],
   "source": [
    "df2[df['country_code'] == 'IT']"
   ]
  },
  {
   "cell_type": "code",
   "execution_count": 331,
   "metadata": {},
   "outputs": [],
   "source": [
    "values, counts = np.unique(df2['country_code'], return_counts=True)"
   ]
  },
  {
   "cell_type": "code",
   "execution_count": 332,
   "metadata": {},
   "outputs": [
    {
     "data": {
      "text/plain": [
       "array([   135,   1695,   2037,   2492,  19005,     21,    485,  32517,\n",
       "        23594,    165, 133702,   2296,  16143,    153,  13334,  11804,\n",
       "         1513, 304196,   1748,    267,     56,     13,    101,    346,\n",
       "        38878,  38878,  25628,   8605,  12023, 252940,   6362,   8234,\n",
       "        17438,  38260,   1131])"
      ]
     },
     "execution_count": 332,
     "metadata": {},
     "output_type": "execute_result"
    }
   ],
   "source": [
    "counts"
   ]
  },
  {
   "cell_type": "code",
   "execution_count": 335,
   "metadata": {},
   "outputs": [
    {
     "data": {
      "text/plain": [
       "'IT'"
      ]
     },
     "execution_count": 335,
     "metadata": {},
     "output_type": "execute_result"
    }
   ],
   "source": [
    "values[17]"
   ]
  },
  {
   "cell_type": "code",
   "execution_count": 338,
   "metadata": {},
   "outputs": [
    {
     "data": {
      "text/plain": [
       "'RU'"
      ]
     },
     "execution_count": 338,
     "metadata": {},
     "output_type": "execute_result"
    }
   ],
   "source": [
    "values[29]"
   ]
  },
  {
   "cell_type": "markdown",
   "metadata": {},
   "source": [
    "### XGBoost"
   ]
  },
  {
   "cell_type": "code",
   "execution_count": 119,
   "metadata": {},
   "outputs": [],
   "source": [
    "y = df2['default_indicator']"
   ]
  },
  {
   "cell_type": "code",
   "execution_count": 126,
   "metadata": {},
   "outputs": [],
   "source": [
    "X = df2.iloc[:, 9:]"
   ]
  },
  {
   "cell_type": "code",
   "execution_count": 134,
   "metadata": {},
   "outputs": [],
   "source": [
    "from sklearn.model_selection import train_test_split\n",
    "import sklearn.pipeline\n",
    "import sklearn\n",
    "import xgboost as xgb"
   ]
  },
  {
   "cell_type": "code",
   "execution_count": 128,
   "metadata": {},
   "outputs": [],
   "source": [
    "X_train, X_test, y_train, y_test = train_test_split(\n",
    "    X, y, test_size=0.2,  random_state=42, stratify=y)"
   ]
  },
  {
   "cell_type": "code",
   "execution_count": 324,
   "metadata": {},
   "outputs": [],
   "source": [
    "transformer = sklearn.preprocessing.MinMaxScaler()\n",
    "model = xgb.XGBClassifier(objective='binary:logistic',\n",
    "                          n_estimators=200, max_depth=5)"
   ]
  },
  {
   "cell_type": "code",
   "execution_count": 325,
   "metadata": {},
   "outputs": [],
   "source": [
    "pipeline = sklearn.pipeline.Pipeline(\n",
    "    [('transformet', transformer),   ('model', model)])\n",
    "\n",
    "model = pipeline.fit(X_train, y_train)"
   ]
  },
  {
   "cell_type": "code",
   "execution_count": 327,
   "metadata": {},
   "outputs": [
    {
     "name": "stdout",
     "output_type": "stream",
     "text": [
      "[[201152    112]\n",
      " [  1852    123]]\n"
     ]
    }
   ],
   "source": [
    "predictions = model.predict(X_test)\n",
    "acc = sklearn.metrics.confusion_matrix(y_test, predictions)\n",
    "print(acc)"
   ]
  },
  {
   "cell_type": "code",
   "execution_count": 326,
   "metadata": {},
   "outputs": [
    {
     "name": "stdout",
     "output_type": "stream",
     "text": [
      "0.9903365003764041\n"
     ]
    }
   ],
   "source": [
    "predictions = model.predict(X_test)\n",
    "acc = sklearn.metrics.accuracy_score(y_test, predictions)\n",
    "print(acc)"
   ]
  },
  {
   "cell_type": "code",
   "execution_count": 138,
   "metadata": {},
   "outputs": [
    {
     "data": {
      "text/plain": [
       "0.9902843450322034"
      ]
     },
     "execution_count": 138,
     "metadata": {},
     "output_type": "execute_result"
    }
   ],
   "source": [
    "1 - sum(y)/len(y)"
   ]
  },
  {
   "cell_type": "code",
   "execution_count": 530,
   "metadata": {},
   "outputs": [
    {
     "data": {
      "text/plain": [
       "Index(['index', 'bvd_id_number', 'country_code', 'industry_code', 'size_class',\n",
       "       'status_year', 'status_date_latest', 'status_latest',\n",
       "       'default_indicator', 'fixed_assets_0', 'intangible_fixed_assets_0',\n",
       "       'tangible_fixed_assets_0', 'other_fixed_assets_0', 'current_assets_0',\n",
       "       'stock_0', 'debtors_0', 'other_current_assets_0',\n",
       "       'cash_cash_equivalent_0', 'total_assets_0', 'shareholders_funds_0',\n",
       "       'capital_0', 'other_shareholders_funds_0', 'noncurrent_liabilities_0',\n",
       "       'long_term_debt_0', 'other_noncurrent_liabilities_0',\n",
       "       'current_liabilities_0', 'loans_0', 'creditors_0',\n",
       "       'other_current_liabilities_0', 'total_shareh_funds_liab_0',\n",
       "       'working_capital_0', 'operating_revenue_0', 'operating_pl_ebit_0',\n",
       "       'financial_expenses_0', 'financial_pl_0', 'pl_before_tax_0',\n",
       "       'taxation_0', 'pl_after_tax_0', 'pl_for_period_net_income_0'],\n",
       "      dtype='object')"
      ]
     },
     "execution_count": 530,
     "metadata": {},
     "output_type": "execute_result"
    }
   ],
   "source": [
    "df2.columns"
   ]
  },
  {
   "cell_type": "markdown",
   "metadata": {},
   "source": [
    "### Averagin based on country and year"
   ]
  },
  {
   "cell_type": "code",
   "execution_count": 504,
   "metadata": {},
   "outputs": [
    {
     "name": "stderr",
     "output_type": "stream",
     "text": [
      "/var/folders/d4/9slshl753db8_3y7dktkm6gw0000gn/T/ipykernel_41957/223704503.py:1: FutureWarning: The default value of numeric_only in DataFrameGroupBy.mean is deprecated. In a future version, numeric_only will default to False. Either specify numeric_only or select only columns which should be valid for the function.\n",
      "  df2[(df2['country_code'] == 'CZ') & (df2['status_year'] == 2005)].groupby(['status_year']).mean().reset_index()['fixed_assets_0'][0]\n"
     ]
    },
    {
     "data": {
      "text/plain": [
       "1983530.8"
      ]
     },
     "execution_count": 504,
     "metadata": {},
     "output_type": "execute_result"
    }
   ],
   "source": [
    "df2[(df2['country_code'] == 'CZ') & (df2['status_year'] == 2005)].groupby(['status_year']).mean().reset_index()['fixed_assets_0'][0]"
   ]
  },
  {
   "cell_type": "code",
   "execution_count": 531,
   "metadata": {},
   "outputs": [
    {
     "name": "stderr",
     "output_type": "stream",
     "text": [
      "/var/folders/d4/9slshl753db8_3y7dktkm6gw0000gn/T/ipykernel_41957/2341800013.py:4: FutureWarning: The default value of numeric_only in DataFrameGroupBy.mean is deprecated. In a future version, numeric_only will default to False. Either specify numeric_only or select only columns which should be valid for the function.\n",
      "  val = df2[(df2['country_code'] == 'IT') & (df2['status_year'] == i)].groupby(['status_year']).mean().reset_index()['fixed_assets_0'][0]\n",
      "/var/folders/d4/9slshl753db8_3y7dktkm6gw0000gn/T/ipykernel_41957/2341800013.py:4: FutureWarning: The default value of numeric_only in DataFrameGroupBy.mean is deprecated. In a future version, numeric_only will default to False. Either specify numeric_only or select only columns which should be valid for the function.\n",
      "  val = df2[(df2['country_code'] == 'IT') & (df2['status_year'] == i)].groupby(['status_year']).mean().reset_index()['fixed_assets_0'][0]\n",
      "/var/folders/d4/9slshl753db8_3y7dktkm6gw0000gn/T/ipykernel_41957/2341800013.py:4: FutureWarning: The default value of numeric_only in DataFrameGroupBy.mean is deprecated. In a future version, numeric_only will default to False. Either specify numeric_only or select only columns which should be valid for the function.\n",
      "  val = df2[(df2['country_code'] == 'IT') & (df2['status_year'] == i)].groupby(['status_year']).mean().reset_index()['fixed_assets_0'][0]\n",
      "/var/folders/d4/9slshl753db8_3y7dktkm6gw0000gn/T/ipykernel_41957/2341800013.py:4: FutureWarning: The default value of numeric_only in DataFrameGroupBy.mean is deprecated. In a future version, numeric_only will default to False. Either specify numeric_only or select only columns which should be valid for the function.\n",
      "  val = df2[(df2['country_code'] == 'IT') & (df2['status_year'] == i)].groupby(['status_year']).mean().reset_index()['fixed_assets_0'][0]\n"
     ]
    },
    {
     "name": "stdout",
     "output_type": "stream",
     "text": [
      "1768688.6\n",
      "1870578.2\n",
      "2075863.2\n",
      "2119727.5\n",
      "2128763.5\n"
     ]
    },
    {
     "name": "stderr",
     "output_type": "stream",
     "text": [
      "/var/folders/d4/9slshl753db8_3y7dktkm6gw0000gn/T/ipykernel_41957/2341800013.py:4: FutureWarning: The default value of numeric_only in DataFrameGroupBy.mean is deprecated. In a future version, numeric_only will default to False. Either specify numeric_only or select only columns which should be valid for the function.\n",
      "  val = df2[(df2['country_code'] == 'IT') & (df2['status_year'] == i)].groupby(['status_year']).mean().reset_index()['fixed_assets_0'][0]\n",
      "/var/folders/d4/9slshl753db8_3y7dktkm6gw0000gn/T/ipykernel_41957/2341800013.py:4: FutureWarning: The default value of numeric_only in DataFrameGroupBy.mean is deprecated. In a future version, numeric_only will default to False. Either specify numeric_only or select only columns which should be valid for the function.\n",
      "  val = df2[(df2['country_code'] == 'IT') & (df2['status_year'] == i)].groupby(['status_year']).mean().reset_index()['fixed_assets_0'][0]\n",
      "/var/folders/d4/9slshl753db8_3y7dktkm6gw0000gn/T/ipykernel_41957/2341800013.py:4: FutureWarning: The default value of numeric_only in DataFrameGroupBy.mean is deprecated. In a future version, numeric_only will default to False. Either specify numeric_only or select only columns which should be valid for the function.\n",
      "  val = df2[(df2['country_code'] == 'IT') & (df2['status_year'] == i)].groupby(['status_year']).mean().reset_index()['fixed_assets_0'][0]\n",
      "/var/folders/d4/9slshl753db8_3y7dktkm6gw0000gn/T/ipykernel_41957/2341800013.py:4: FutureWarning: The default value of numeric_only in DataFrameGroupBy.mean is deprecated. In a future version, numeric_only will default to False. Either specify numeric_only or select only columns which should be valid for the function.\n",
      "  val = df2[(df2['country_code'] == 'IT') & (df2['status_year'] == i)].groupby(['status_year']).mean().reset_index()['fixed_assets_0'][0]\n",
      "/var/folders/d4/9slshl753db8_3y7dktkm6gw0000gn/T/ipykernel_41957/2341800013.py:4: FutureWarning: The default value of numeric_only in DataFrameGroupBy.mean is deprecated. In a future version, numeric_only will default to False. Either specify numeric_only or select only columns which should be valid for the function.\n",
      "  val = df2[(df2['country_code'] == 'IT') & (df2['status_year'] == i)].groupby(['status_year']).mean().reset_index()['fixed_assets_0'][0]\n",
      "/var/folders/d4/9slshl753db8_3y7dktkm6gw0000gn/T/ipykernel_41957/2341800013.py:4: FutureWarning: The default value of numeric_only in DataFrameGroupBy.mean is deprecated. In a future version, numeric_only will default to False. Either specify numeric_only or select only columns which should be valid for the function.\n",
      "  val = df2[(df2['country_code'] == 'IT') & (df2['status_year'] == i)].groupby(['status_year']).mean().reset_index()['fixed_assets_0'][0]\n"
     ]
    },
    {
     "name": "stdout",
     "output_type": "stream",
     "text": [
      "2452787.5\n",
      "2706613.0\n",
      "2605345.0\n",
      "2650301.5\n",
      "3174496.8\n",
      "3353939.0\n"
     ]
    },
    {
     "name": "stderr",
     "output_type": "stream",
     "text": [
      "/var/folders/d4/9slshl753db8_3y7dktkm6gw0000gn/T/ipykernel_41957/2341800013.py:4: FutureWarning: The default value of numeric_only in DataFrameGroupBy.mean is deprecated. In a future version, numeric_only will default to False. Either specify numeric_only or select only columns which should be valid for the function.\n",
      "  val = df2[(df2['country_code'] == 'IT') & (df2['status_year'] == i)].groupby(['status_year']).mean().reset_index()['fixed_assets_0'][0]\n",
      "/var/folders/d4/9slshl753db8_3y7dktkm6gw0000gn/T/ipykernel_41957/2341800013.py:4: FutureWarning: The default value of numeric_only in DataFrameGroupBy.mean is deprecated. In a future version, numeric_only will default to False. Either specify numeric_only or select only columns which should be valid for the function.\n",
      "  val = df2[(df2['country_code'] == 'IT') & (df2['status_year'] == i)].groupby(['status_year']).mean().reset_index()['fixed_assets_0'][0]\n",
      "/var/folders/d4/9slshl753db8_3y7dktkm6gw0000gn/T/ipykernel_41957/2341800013.py:4: FutureWarning: The default value of numeric_only in DataFrameGroupBy.mean is deprecated. In a future version, numeric_only will default to False. Either specify numeric_only or select only columns which should be valid for the function.\n",
      "  val = df2[(df2['country_code'] == 'IT') & (df2['status_year'] == i)].groupby(['status_year']).mean().reset_index()['fixed_assets_0'][0]\n",
      "/var/folders/d4/9slshl753db8_3y7dktkm6gw0000gn/T/ipykernel_41957/2341800013.py:4: FutureWarning: The default value of numeric_only in DataFrameGroupBy.mean is deprecated. In a future version, numeric_only will default to False. Either specify numeric_only or select only columns which should be valid for the function.\n",
      "  val = df2[(df2['country_code'] == 'IT') & (df2['status_year'] == i)].groupby(['status_year']).mean().reset_index()['fixed_assets_0'][0]\n",
      "/var/folders/d4/9slshl753db8_3y7dktkm6gw0000gn/T/ipykernel_41957/2341800013.py:4: FutureWarning: The default value of numeric_only in DataFrameGroupBy.mean is deprecated. In a future version, numeric_only will default to False. Either specify numeric_only or select only columns which should be valid for the function.\n",
      "  val = df2[(df2['country_code'] == 'IT') & (df2['status_year'] == i)].groupby(['status_year']).mean().reset_index()['fixed_assets_0'][0]\n",
      "/var/folders/d4/9slshl753db8_3y7dktkm6gw0000gn/T/ipykernel_41957/2341800013.py:4: FutureWarning: The default value of numeric_only in DataFrameGroupBy.mean is deprecated. In a future version, numeric_only will default to False. Either specify numeric_only or select only columns which should be valid for the function.\n",
      "  val = df2[(df2['country_code'] == 'IT') & (df2['status_year'] == i)].groupby(['status_year']).mean().reset_index()['fixed_assets_0'][0]\n"
     ]
    },
    {
     "name": "stdout",
     "output_type": "stream",
     "text": [
      "3045837.2\n",
      "2955795.0\n",
      "3012624.2\n",
      "2867696.2\n",
      "2821611.2\n",
      "2843452.0\n",
      "3632771.0\n",
      "3116902.8\n"
     ]
    },
    {
     "name": "stderr",
     "output_type": "stream",
     "text": [
      "/var/folders/d4/9slshl753db8_3y7dktkm6gw0000gn/T/ipykernel_41957/2341800013.py:4: FutureWarning: The default value of numeric_only in DataFrameGroupBy.mean is deprecated. In a future version, numeric_only will default to False. Either specify numeric_only or select only columns which should be valid for the function.\n",
      "  val = df2[(df2['country_code'] == 'IT') & (df2['status_year'] == i)].groupby(['status_year']).mean().reset_index()['fixed_assets_0'][0]\n",
      "/var/folders/d4/9slshl753db8_3y7dktkm6gw0000gn/T/ipykernel_41957/2341800013.py:4: FutureWarning: The default value of numeric_only in DataFrameGroupBy.mean is deprecated. In a future version, numeric_only will default to False. Either specify numeric_only or select only columns which should be valid for the function.\n",
      "  val = df2[(df2['country_code'] == 'IT') & (df2['status_year'] == i)].groupby(['status_year']).mean().reset_index()['fixed_assets_0'][0]\n",
      "/var/folders/d4/9slshl753db8_3y7dktkm6gw0000gn/T/ipykernel_41957/2341800013.py:4: FutureWarning: The default value of numeric_only in DataFrameGroupBy.mean is deprecated. In a future version, numeric_only will default to False. Either specify numeric_only or select only columns which should be valid for the function.\n",
      "  val = df2[(df2['country_code'] == 'IT') & (df2['status_year'] == i)].groupby(['status_year']).mean().reset_index()['fixed_assets_0'][0]\n"
     ]
    }
   ],
   "source": [
    "fxa = {}\n",
    "for i in range(2003, 2022):\n",
    "    try: \n",
    "        val = df2[(df2['country_code'] == 'IT') & (df2['status_year'] == i)].groupby(['status_year']).mean().reset_index()['fixed_assets_0'][0]\n",
    "        fxa[i] = val\n",
    "        print(val)\n",
    "    except:\n",
    "        continue"
   ]
  },
  {
   "cell_type": "code",
   "execution_count": 532,
   "metadata": {},
   "outputs": [
    {
     "data": {
      "text/plain": [
       "{2003: 1768688.6,\n",
       " 2004: 1870578.2,\n",
       " 2005: 2075863.2,\n",
       " 2006: 2119727.5,\n",
       " 2007: 2128763.5,\n",
       " 2008: 2452787.5,\n",
       " 2009: 2706613.0,\n",
       " 2010: 2605345.0,\n",
       " 2011: 2650301.5,\n",
       " 2012: 3174496.8,\n",
       " 2013: 3353939.0,\n",
       " 2014: 3045837.2,\n",
       " 2015: 2955795.0,\n",
       " 2016: 3012624.2,\n",
       " 2017: 2867696.2,\n",
       " 2018: 2821611.2,\n",
       " 2019: 2843452.0,\n",
       " 2020: 3632771.0,\n",
       " 2021: 3116902.8}"
      ]
     },
     "execution_count": 532,
     "metadata": {},
     "output_type": "execute_result"
    }
   ],
   "source": [
    "fxa"
   ]
  },
  {
   "cell_type": "code",
   "execution_count": 533,
   "metadata": {},
   "outputs": [
    {
     "data": {
      "text/plain": [
       "[<matplotlib.lines.Line2D at 0x2ff9591b0>]"
      ]
     },
     "execution_count": 533,
     "metadata": {},
     "output_type": "execute_result"
    },
    {
     "data": {
      "image/png": "[encoded data removed]",
      "text/plain": [
       "<Figure size 640x480 with 1 Axes>"
      ]
     },
     "metadata": {},
     "output_type": "display_data"
    }
   ],
   "source": [
    "import matplotlib.pyplot as plt\n",
    "\n",
    "mlist = sorted(fxa.items())\n",
    "x, y = zip(*mlist)\n",
    "plt.plot(x, y)"
   ]
  },
  {
   "cell_type": "code",
   "execution_count": 534,
   "metadata": {},
   "outputs": [],
   "source": [
    "y = list(y)"
   ]
  },
  {
   "cell_type": "code",
   "execution_count": null,
   "metadata": {},
   "outputs": [],
   "source": []
  },
  {
   "cell_type": "code",
   "execution_count": 535,
   "metadata": {},
   "outputs": [],
   "source": [
    "pl = []\n",
    "for i in range(len(y)-1):\n",
    "    pl.append(y[i] - y[i+1])"
   ]
  },
  {
   "cell_type": "code",
   "execution_count": 536,
   "metadata": {},
   "outputs": [
    {
     "data": {
      "text/plain": [
       "[1768688.6,\n",
       " 1870578.2,\n",
       " 2075863.2,\n",
       " 2119727.5,\n",
       " 2128763.5,\n",
       " 2452787.5,\n",
       " 2706613.0,\n",
       " 2605345.0,\n",
       " 2650301.5,\n",
       " 3174496.8,\n",
       " 3353939.0,\n",
       " 3045837.2,\n",
       " 2955795.0,\n",
       " 3012624.2,\n",
       " 2867696.2,\n",
       " 2821611.2,\n",
       " 2843452.0,\n",
       " 3632771.0,\n",
       " 3116902.8]"
      ]
     },
     "execution_count": 536,
     "metadata": {},
     "output_type": "execute_result"
    }
   ],
   "source": [
    "y"
   ]
  },
  {
   "cell_type": "code",
   "execution_count": 537,
   "metadata": {},
   "outputs": [
    {
     "data": {
      "text/plain": [
       "[-101889.625,\n",
       " -205285.0,\n",
       " -43864.25,\n",
       " -9036.0,\n",
       " -324024.0,\n",
       " -253825.5,\n",
       " 101268.0,\n",
       " -44956.5,\n",
       " -524195.25,\n",
       " -179442.25,\n",
       " 308101.75,\n",
       " 90042.25,\n",
       " -56829.25,\n",
       " 144928.0,\n",
       " 46085.0,\n",
       " -21840.75,\n",
       " -789319.0,\n",
       " 515868.25]"
      ]
     },
     "execution_count": 537,
     "metadata": {},
     "output_type": "execute_result"
    }
   ],
   "source": [
    "pl"
   ]
  },
  {
   "cell_type": "code",
   "execution_count": 509,
   "metadata": {},
   "outputs": [
    {
     "ename": "AttributeError",
     "evalue": "'tuple' object has no attribute 'diff'",
     "output_type": "error",
     "traceback": [
      "\u001b[0;31m---------------------------------------------------------------------------\u001b[0m",
      "\u001b[0;31mAttributeError\u001b[0m                            Traceback (most recent call last)",
      "Cell \u001b[0;32mIn[509], line 1\u001b[0m\n\u001b[0;32m----> 1\u001b[0m \u001b[43my\u001b[49m\u001b[38;5;241;43m.\u001b[39;49m\u001b[43mdiff\u001b[49m()\n",
      "\u001b[0;31mAttributeError\u001b[0m: 'tuple' object has no attribute 'diff'"
     ]
    }
   ],
   "source": [
    "y.diff()"
   ]
  },
  {
   "cell_type": "code",
   "execution_count": 399,
   "metadata": {},
   "outputs": [],
   "source": [
    "p = pd.DataFrame(y)"
   ]
  },
  {
   "cell_type": "code",
   "execution_count": 403,
   "metadata": {},
   "outputs": [],
   "source": [
    "p.to_csv('pp.csv')"
   ]
  },
  {
   "cell_type": "code",
   "execution_count": 220,
   "metadata": {},
   "outputs": [
    {
     "data": {
      "text/html": [
       "<div>\n",
       "<style scoped>\n",
       "    .dataframe tbody tr th:only-of-type {\n",
       "        vertical-align: middle;\n",
       "    }\n",
       "\n",
       "    .dataframe tbody tr th {\n",
       "        vertical-align: top;\n",
       "    }\n",
       "\n",
       "    .dataframe thead th {\n",
       "        text-align: right;\n",
       "    }\n",
       "</style>\n",
       "<table border=\"1\" class=\"dataframe\">\n",
       "  <thead>\n",
       "    <tr style=\"text-align: right;\">\n",
       "      <th></th>\n",
       "      <th>index</th>\n",
       "      <th>bvd_id_number</th>\n",
       "      <th>country_code</th>\n",
       "      <th>industry_code</th>\n",
       "      <th>size_class</th>\n",
       "      <th>status_year</th>\n",
       "      <th>status_date_latest</th>\n",
       "      <th>status_latest</th>\n",
       "      <th>default_indicator</th>\n",
       "      <th>fixed_assets_0</th>\n",
       "      <th>...</th>\n",
       "      <th>total_shareh_funds_liab_0</th>\n",
       "      <th>working_capital_0</th>\n",
       "      <th>operating_revenue_0</th>\n",
       "      <th>operating_pl_ebit_0</th>\n",
       "      <th>financial_expenses_0</th>\n",
       "      <th>financial_pl_0</th>\n",
       "      <th>pl_before_tax_0</th>\n",
       "      <th>taxation_0</th>\n",
       "      <th>pl_after_tax_0</th>\n",
       "      <th>pl_for_period_net_income_0</th>\n",
       "    </tr>\n",
       "  </thead>\n",
       "  <tbody>\n",
       "    <tr>\n",
       "      <th>76477</th>\n",
       "      <td>14413653</td>\n",
       "      <td>CZ47311975</td>\n",
       "      <td>CZ</td>\n",
       "      <td>H</td>\n",
       "      <td>SME</td>\n",
       "      <td>2000</td>\n",
       "      <td>16991231</td>\n",
       "      <td>non_default</td>\n",
       "      <td>0</td>\n",
       "      <td>26931680.0</td>\n",
       "      <td>...</td>\n",
       "      <td>27833286.0</td>\n",
       "      <td>-37175.0</td>\n",
       "      <td>6433617.0</td>\n",
       "      <td>13187.0</td>\n",
       "      <td>21458.0</td>\n",
       "      <td>-13472.0</td>\n",
       "      <td>-284.0</td>\n",
       "      <td>0.0</td>\n",
       "      <td>-284.0</td>\n",
       "      <td>62498.0</td>\n",
       "    </tr>\n",
       "    <tr>\n",
       "      <th>106726</th>\n",
       "      <td>12228944</td>\n",
       "      <td>CZ45534543</td>\n",
       "      <td>CZ</td>\n",
       "      <td>C</td>\n",
       "      <td>SME</td>\n",
       "      <td>2000</td>\n",
       "      <td>16991231</td>\n",
       "      <td>non_default</td>\n",
       "      <td>0</td>\n",
       "      <td>3318855.0</td>\n",
       "      <td>...</td>\n",
       "      <td>6393998.0</td>\n",
       "      <td>1876963.0</td>\n",
       "      <td>8367905.0</td>\n",
       "      <td>361034.0</td>\n",
       "      <td>968395.0</td>\n",
       "      <td>-921045.0</td>\n",
       "      <td>-560011.0</td>\n",
       "      <td>3496.0</td>\n",
       "      <td>-563507.0</td>\n",
       "      <td>-552877.0</td>\n",
       "    </tr>\n",
       "    <tr>\n",
       "      <th>355201</th>\n",
       "      <td>5005481</td>\n",
       "      <td>CZ45148431</td>\n",
       "      <td>CZ</td>\n",
       "      <td>J</td>\n",
       "      <td>SME</td>\n",
       "      <td>2000</td>\n",
       "      <td>16991231</td>\n",
       "      <td>non_default</td>\n",
       "      <td>0</td>\n",
       "      <td>4950628.0</td>\n",
       "      <td>...</td>\n",
       "      <td>9812383.0</td>\n",
       "      <td>2725278.0</td>\n",
       "      <td>8726723.0</td>\n",
       "      <td>63806.0</td>\n",
       "      <td>209322.0</td>\n",
       "      <td>-68154.0</td>\n",
       "      <td>-4348.0</td>\n",
       "      <td>6338.0</td>\n",
       "      <td>-10686.0</td>\n",
       "      <td>21970.0</td>\n",
       "    </tr>\n",
       "    <tr>\n",
       "      <th>409637</th>\n",
       "      <td>14590760</td>\n",
       "      <td>CZ15821773</td>\n",
       "      <td>CZ</td>\n",
       "      <td>C</td>\n",
       "      <td>SME</td>\n",
       "      <td>2000</td>\n",
       "      <td>16991231</td>\n",
       "      <td>non_default</td>\n",
       "      <td>0</td>\n",
       "      <td>2169360.0</td>\n",
       "      <td>...</td>\n",
       "      <td>6641830.0</td>\n",
       "      <td>3272301.0</td>\n",
       "      <td>6306290.0</td>\n",
       "      <td>-2842.0</td>\n",
       "      <td>73270.0</td>\n",
       "      <td>-70541.0</td>\n",
       "      <td>-73383.0</td>\n",
       "      <td>19383.0</td>\n",
       "      <td>-92767.0</td>\n",
       "      <td>7276.0</td>\n",
       "    </tr>\n",
       "    <tr>\n",
       "      <th>650477</th>\n",
       "      <td>13906884</td>\n",
       "      <td>CZ00174238</td>\n",
       "      <td>CZ</td>\n",
       "      <td>C</td>\n",
       "      <td>SME</td>\n",
       "      <td>2000</td>\n",
       "      <td>16991231</td>\n",
       "      <td>non_default</td>\n",
       "      <td>0</td>\n",
       "      <td>5545313.0</td>\n",
       "      <td>...</td>\n",
       "      <td>8887672.0</td>\n",
       "      <td>1388346.0</td>\n",
       "      <td>6825147.0</td>\n",
       "      <td>600738.0</td>\n",
       "      <td>83672.0</td>\n",
       "      <td>32912.0</td>\n",
       "      <td>633650.0</td>\n",
       "      <td>136791.0</td>\n",
       "      <td>496859.0</td>\n",
       "      <td>297087.0</td>\n",
       "    </tr>\n",
       "    <tr>\n",
       "      <th>743557</th>\n",
       "      <td>13069870</td>\n",
       "      <td>CZ44569858</td>\n",
       "      <td>CZ</td>\n",
       "      <td>F</td>\n",
       "      <td>SME</td>\n",
       "      <td>2000</td>\n",
       "      <td>16991231</td>\n",
       "      <td>non_default</td>\n",
       "      <td>0</td>\n",
       "      <td>9514416.0</td>\n",
       "      <td>...</td>\n",
       "      <td>18446028.0</td>\n",
       "      <td>-249424.0</td>\n",
       "      <td>7546903.0</td>\n",
       "      <td>-643939.0</td>\n",
       "      <td>-73440.0</td>\n",
       "      <td>79324.0</td>\n",
       "      <td>-564615.0</td>\n",
       "      <td>0.0</td>\n",
       "      <td>-564615.0</td>\n",
       "      <td>-531419.0</td>\n",
       "    </tr>\n",
       "    <tr>\n",
       "      <th>950964</th>\n",
       "      <td>10576269</td>\n",
       "      <td>CZ45274592</td>\n",
       "      <td>CZ</td>\n",
       "      <td>N</td>\n",
       "      <td>SME</td>\n",
       "      <td>2000</td>\n",
       "      <td>16991231</td>\n",
       "      <td>non_default</td>\n",
       "      <td>0</td>\n",
       "      <td>20675924.0</td>\n",
       "      <td>...</td>\n",
       "      <td>22964454.0</td>\n",
       "      <td>613045.0</td>\n",
       "      <td>8567166.0</td>\n",
       "      <td>462640.0</td>\n",
       "      <td>228421.0</td>\n",
       "      <td>-208611.0</td>\n",
       "      <td>254028.0</td>\n",
       "      <td>223135.0</td>\n",
       "      <td>30894.0</td>\n",
       "      <td>47577.0</td>\n",
       "    </tr>\n",
       "    <tr>\n",
       "      <th>1341699</th>\n",
       "      <td>12633115</td>\n",
       "      <td>CZ46505008</td>\n",
       "      <td>CZ</td>\n",
       "      <td>A</td>\n",
       "      <td>SME</td>\n",
       "      <td>2000</td>\n",
       "      <td>16991231</td>\n",
       "      <td>non_default</td>\n",
       "      <td>0</td>\n",
       "      <td>2065509.0</td>\n",
       "      <td>...</td>\n",
       "      <td>4011536.0</td>\n",
       "      <td>1021343.0</td>\n",
       "      <td>7963387.0</td>\n",
       "      <td>351769.0</td>\n",
       "      <td>514082.0</td>\n",
       "      <td>-474236.0</td>\n",
       "      <td>-122467.0</td>\n",
       "      <td>0.0</td>\n",
       "      <td>-122467.0</td>\n",
       "      <td>-105386.0</td>\n",
       "    </tr>\n",
       "  </tbody>\n",
       "</table>\n",
       "<p>8 rows × 39 columns</p>\n",
       "</div>"
      ],
      "text/plain": [
       "            index bvd_id_number country_code industry_code size_class  \\\n",
       "76477    14413653    CZ47311975           CZ             H        SME   \n",
       "106726   12228944    CZ45534543           CZ             C        SME   \n",
       "355201    5005481    CZ45148431           CZ             J        SME   \n",
       "409637   14590760    CZ15821773           CZ             C        SME   \n",
       "650477   13906884    CZ00174238           CZ             C        SME   \n",
       "743557   13069870    CZ44569858           CZ             F        SME   \n",
       "950964   10576269    CZ45274592           CZ             N        SME   \n",
       "1341699  12633115    CZ46505008           CZ             A        SME   \n",
       "\n",
       "         status_year  status_date_latest status_latest  default_indicator  \\\n",
       "76477           2000            16991231   non_default                  0   \n",
       "106726          2000            16991231   non_default                  0   \n",
       "355201          2000            16991231   non_default                  0   \n",
       "409637          2000            16991231   non_default                  0   \n",
       "650477          2000            16991231   non_default                  0   \n",
       "743557          2000            16991231   non_default                  0   \n",
       "950964          2000            16991231   non_default                  0   \n",
       "1341699         2000            16991231   non_default                  0   \n",
       "\n",
       "         fixed_assets_0  ...  total_shareh_funds_liab_0  working_capital_0  \\\n",
       "76477        26931680.0  ...                 27833286.0           -37175.0   \n",
       "106726        3318855.0  ...                  6393998.0          1876963.0   \n",
       "355201        4950628.0  ...                  9812383.0          2725278.0   \n",
       "409637        2169360.0  ...                  6641830.0          3272301.0   \n",
       "650477        5545313.0  ...                  8887672.0          1388346.0   \n",
       "743557        9514416.0  ...                 18446028.0          -249424.0   \n",
       "950964       20675924.0  ...                 22964454.0           613045.0   \n",
       "1341699       2065509.0  ...                  4011536.0          1021343.0   \n",
       "\n",
       "         operating_revenue_0  operating_pl_ebit_0  financial_expenses_0  \\\n",
       "76477              6433617.0              13187.0               21458.0   \n",
       "106726             8367905.0             361034.0              968395.0   \n",
       "355201             8726723.0              63806.0              209322.0   \n",
       "409637             6306290.0              -2842.0               73270.0   \n",
       "650477             6825147.0             600738.0               83672.0   \n",
       "743557             7546903.0            -643939.0              -73440.0   \n",
       "950964             8567166.0             462640.0              228421.0   \n",
       "1341699            7963387.0             351769.0              514082.0   \n",
       "\n",
       "         financial_pl_0  pl_before_tax_0  taxation_0  pl_after_tax_0  \\\n",
       "76477          -13472.0           -284.0         0.0          -284.0   \n",
       "106726        -921045.0        -560011.0      3496.0       -563507.0   \n",
       "355201         -68154.0          -4348.0      6338.0        -10686.0   \n",
       "409637         -70541.0         -73383.0     19383.0        -92767.0   \n",
       "650477          32912.0         633650.0    136791.0        496859.0   \n",
       "743557          79324.0        -564615.0         0.0       -564615.0   \n",
       "950964        -208611.0         254028.0    223135.0         30894.0   \n",
       "1341699       -474236.0        -122467.0         0.0       -122467.0   \n",
       "\n",
       "         pl_for_period_net_income_0  \n",
       "76477                       62498.0  \n",
       "106726                    -552877.0  \n",
       "355201                      21970.0  \n",
       "409637                       7276.0  \n",
       "650477                     297087.0  \n",
       "743557                    -531419.0  \n",
       "950964                      47577.0  \n",
       "1341699                   -105386.0  \n",
       "\n",
       "[8 rows x 39 columns]"
      ]
     },
     "execution_count": 220,
     "metadata": {},
     "output_type": "execute_result"
    }
   ],
   "source": [
    "df2[(df2['country_code'] == 'CZ') & (df2['status_year'] == 2000)]"
   ]
  },
  {
   "cell_type": "code",
   "execution_count": 221,
   "metadata": {},
   "outputs": [
    {
     "name": "stdout",
     "output_type": "stream",
     "text": [
      "Index(['index', 'bvd_id_number', 'country_code', 'industry_code', 'size_class',\n",
      "       'status_year', 'status_date_latest', 'status_latest',\n",
      "       'default_indicator', 'fixed_assets_0', 'intangible_fixed_assets_0',\n",
      "       'tangible_fixed_assets_0', 'other_fixed_assets_0', 'current_assets_0',\n",
      "       'stock_0', 'debtors_0', 'other_current_assets_0',\n",
      "       'cash_cash_equivalent_0', 'total_assets_0', 'shareholders_funds_0',\n",
      "       'capital_0', 'other_shareholders_funds_0', 'noncurrent_liabilities_0',\n",
      "       'long_term_debt_0', 'other_noncurrent_liabilities_0',\n",
      "       'current_liabilities_0', 'loans_0', 'creditors_0',\n",
      "       'other_current_liabilities_0', 'total_shareh_funds_liab_0',\n",
      "       'working_capital_0', 'operating_revenue_0', 'operating_pl_ebit_0',\n",
      "       'financial_expenses_0', 'financial_pl_0', 'pl_before_tax_0',\n",
      "       'taxation_0', 'pl_after_tax_0', 'pl_for_period_net_income_0'],\n",
      "      dtype='object')\n"
     ]
    }
   ],
   "source": [
    "print(df2.columns)"
   ]
  },
  {
   "cell_type": "code",
   "execution_count": 171,
   "metadata": {},
   "outputs": [
    {
     "data": {
      "text/html": [
       "<div>\n",
       "<style scoped>\n",
       "    .dataframe tbody tr th:only-of-type {\n",
       "        vertical-align: middle;\n",
       "    }\n",
       "\n",
       "    .dataframe tbody tr th {\n",
       "        vertical-align: top;\n",
       "    }\n",
       "\n",
       "    .dataframe thead th {\n",
       "        text-align: right;\n",
       "    }\n",
       "</style>\n",
       "<table border=\"1\" class=\"dataframe\">\n",
       "  <thead>\n",
       "    <tr style=\"text-align: right;\">\n",
       "      <th></th>\n",
       "      <th>index</th>\n",
       "      <th>bvd_id_number</th>\n",
       "      <th>country_code</th>\n",
       "      <th>industry_code</th>\n",
       "      <th>size_class</th>\n",
       "      <th>status_year</th>\n",
       "      <th>status_date_latest</th>\n",
       "      <th>status_latest</th>\n",
       "      <th>default_indicator</th>\n",
       "      <th>fixed_assets_0</th>\n",
       "      <th>...</th>\n",
       "      <th>total_shareh_funds_liab_0</th>\n",
       "      <th>working_capital_0</th>\n",
       "      <th>operating_revenue_0</th>\n",
       "      <th>operating_pl_ebit_0</th>\n",
       "      <th>financial_expenses_0</th>\n",
       "      <th>financial_pl_0</th>\n",
       "      <th>pl_before_tax_0</th>\n",
       "      <th>taxation_0</th>\n",
       "      <th>pl_after_tax_0</th>\n",
       "      <th>pl_for_period_net_income_0</th>\n",
       "    </tr>\n",
       "  </thead>\n",
       "  <tbody>\n",
       "    <tr>\n",
       "      <th>950743</th>\n",
       "      <td>10576267</td>\n",
       "      <td>CZ45274592</td>\n",
       "      <td>CZ</td>\n",
       "      <td>N</td>\n",
       "      <td>SME</td>\n",
       "      <td>2002</td>\n",
       "      <td>16991231</td>\n",
       "      <td>non_default</td>\n",
       "      <td>0</td>\n",
       "      <td>21540912.0</td>\n",
       "      <td>...</td>\n",
       "      <td>24955644.0</td>\n",
       "      <td>-847134.0</td>\n",
       "      <td>9378049.0</td>\n",
       "      <td>347845.0</td>\n",
       "      <td>-304250.0</td>\n",
       "      <td>322789.0</td>\n",
       "      <td>670633.0</td>\n",
       "      <td>28188.0</td>\n",
       "      <td>642445.0</td>\n",
       "      <td>831790.0</td>\n",
       "    </tr>\n",
       "    <tr>\n",
       "      <th>950829</th>\n",
       "      <td>10576268</td>\n",
       "      <td>CZ45274592</td>\n",
       "      <td>CZ</td>\n",
       "      <td>N</td>\n",
       "      <td>SME</td>\n",
       "      <td>2001</td>\n",
       "      <td>16991231</td>\n",
       "      <td>non_default</td>\n",
       "      <td>0</td>\n",
       "      <td>21476432.0</td>\n",
       "      <td>...</td>\n",
       "      <td>24324532.0</td>\n",
       "      <td>34455.0</td>\n",
       "      <td>9590398.0</td>\n",
       "      <td>877610.0</td>\n",
       "      <td>1392897.0</td>\n",
       "      <td>-1372869.0</td>\n",
       "      <td>-495259.0</td>\n",
       "      <td>126772.0</td>\n",
       "      <td>-622031.0</td>\n",
       "      <td>-577782.0</td>\n",
       "    </tr>\n",
       "    <tr>\n",
       "      <th>950964</th>\n",
       "      <td>10576269</td>\n",
       "      <td>CZ45274592</td>\n",
       "      <td>CZ</td>\n",
       "      <td>N</td>\n",
       "      <td>SME</td>\n",
       "      <td>2000</td>\n",
       "      <td>16991231</td>\n",
       "      <td>non_default</td>\n",
       "      <td>0</td>\n",
       "      <td>20675924.0</td>\n",
       "      <td>...</td>\n",
       "      <td>22964454.0</td>\n",
       "      <td>613045.0</td>\n",
       "      <td>8567166.0</td>\n",
       "      <td>462640.0</td>\n",
       "      <td>228421.0</td>\n",
       "      <td>-208611.0</td>\n",
       "      <td>254028.0</td>\n",
       "      <td>223135.0</td>\n",
       "      <td>30894.0</td>\n",
       "      <td>47577.0</td>\n",
       "    </tr>\n",
       "    <tr>\n",
       "      <th>1269590</th>\n",
       "      <td>10167990</td>\n",
       "      <td>CZ45274592</td>\n",
       "      <td>CZ</td>\n",
       "      <td>N</td>\n",
       "      <td>SME</td>\n",
       "      <td>2015</td>\n",
       "      <td>16991231</td>\n",
       "      <td>non_default</td>\n",
       "      <td>0</td>\n",
       "      <td>36067752.0</td>\n",
       "      <td>...</td>\n",
       "      <td>49977528.0</td>\n",
       "      <td>10250358.0</td>\n",
       "      <td>8127726.0</td>\n",
       "      <td>-7141.0</td>\n",
       "      <td>627250.0</td>\n",
       "      <td>720309.0</td>\n",
       "      <td>713168.0</td>\n",
       "      <td>1147.0</td>\n",
       "      <td>712021.0</td>\n",
       "      <td>718496.0</td>\n",
       "    </tr>\n",
       "    <tr>\n",
       "      <th>1269897</th>\n",
       "      <td>10167989</td>\n",
       "      <td>CZ45274592</td>\n",
       "      <td>CZ</td>\n",
       "      <td>N</td>\n",
       "      <td>SME</td>\n",
       "      <td>2016</td>\n",
       "      <td>16991231</td>\n",
       "      <td>non_default</td>\n",
       "      <td>0</td>\n",
       "      <td>35841704.0</td>\n",
       "      <td>...</td>\n",
       "      <td>58898488.0</td>\n",
       "      <td>9434524.0</td>\n",
       "      <td>9198308.0</td>\n",
       "      <td>1600899.0</td>\n",
       "      <td>57278.0</td>\n",
       "      <td>-54466.0</td>\n",
       "      <td>1546433.0</td>\n",
       "      <td>288832.0</td>\n",
       "      <td>1257601.0</td>\n",
       "      <td>1257601.0</td>\n",
       "    </tr>\n",
       "    <tr>\n",
       "      <th>1269931</th>\n",
       "      <td>10167985</td>\n",
       "      <td>CZ45274592</td>\n",
       "      <td>CZ</td>\n",
       "      <td>N</td>\n",
       "      <td>SME</td>\n",
       "      <td>2020</td>\n",
       "      <td>16991231</td>\n",
       "      <td>non_default</td>\n",
       "      <td>0</td>\n",
       "      <td>52294752.0</td>\n",
       "      <td>...</td>\n",
       "      <td>69722256.0</td>\n",
       "      <td>911790.0</td>\n",
       "      <td>8395452.0</td>\n",
       "      <td>19890.0</td>\n",
       "      <td>260441.0</td>\n",
       "      <td>162856.0</td>\n",
       "      <td>182747.0</td>\n",
       "      <td>72207.0</td>\n",
       "      <td>110540.0</td>\n",
       "      <td>110540.0</td>\n",
       "    </tr>\n",
       "    <tr>\n",
       "      <th>1269962</th>\n",
       "      <td>10167992</td>\n",
       "      <td>CZ45274592</td>\n",
       "      <td>CZ</td>\n",
       "      <td>N</td>\n",
       "      <td>SME</td>\n",
       "      <td>2013</td>\n",
       "      <td>16991231</td>\n",
       "      <td>non_default</td>\n",
       "      <td>0</td>\n",
       "      <td>34018600.0</td>\n",
       "      <td>...</td>\n",
       "      <td>57618880.0</td>\n",
       "      <td>16662308.0</td>\n",
       "      <td>7321999.0</td>\n",
       "      <td>424227.0</td>\n",
       "      <td>971759.0</td>\n",
       "      <td>12831148.0</td>\n",
       "      <td>13255374.0</td>\n",
       "      <td>3585131.0</td>\n",
       "      <td>9670243.0</td>\n",
       "      <td>15112655.0</td>\n",
       "    </tr>\n",
       "    <tr>\n",
       "      <th>1270154</th>\n",
       "      <td>10167993</td>\n",
       "      <td>CZ45274592</td>\n",
       "      <td>CZ</td>\n",
       "      <td>N</td>\n",
       "      <td>SME</td>\n",
       "      <td>2012</td>\n",
       "      <td>16991231</td>\n",
       "      <td>non_default</td>\n",
       "      <td>0</td>\n",
       "      <td>46384644.0</td>\n",
       "      <td>...</td>\n",
       "      <td>52314996.0</td>\n",
       "      <td>2173885.0</td>\n",
       "      <td>8681539.0</td>\n",
       "      <td>1392895.0</td>\n",
       "      <td>287497.0</td>\n",
       "      <td>1937937.0</td>\n",
       "      <td>3330832.0</td>\n",
       "      <td>911493.0</td>\n",
       "      <td>2419339.0</td>\n",
       "      <td>2501157.0</td>\n",
       "    </tr>\n",
       "    <tr>\n",
       "      <th>1276908</th>\n",
       "      <td>10167988</td>\n",
       "      <td>CZ45274592</td>\n",
       "      <td>CZ</td>\n",
       "      <td>N</td>\n",
       "      <td>SME</td>\n",
       "      <td>2017</td>\n",
       "      <td>16991231</td>\n",
       "      <td>non_default</td>\n",
       "      <td>0</td>\n",
       "      <td>38733608.0</td>\n",
       "      <td>...</td>\n",
       "      <td>67300488.0</td>\n",
       "      <td>9052612.0</td>\n",
       "      <td>9562554.0</td>\n",
       "      <td>402753.0</td>\n",
       "      <td>925775.0</td>\n",
       "      <td>-118977.0</td>\n",
       "      <td>283775.0</td>\n",
       "      <td>59959.0</td>\n",
       "      <td>223817.0</td>\n",
       "      <td>223817.0</td>\n",
       "    </tr>\n",
       "    <tr>\n",
       "      <th>1279533</th>\n",
       "      <td>10167984</td>\n",
       "      <td>CZ45274592</td>\n",
       "      <td>CZ</td>\n",
       "      <td>N</td>\n",
       "      <td>SME</td>\n",
       "      <td>2021</td>\n",
       "      <td>16991231</td>\n",
       "      <td>non_default</td>\n",
       "      <td>0</td>\n",
       "      <td>56058940.0</td>\n",
       "      <td>...</td>\n",
       "      <td>75262448.0</td>\n",
       "      <td>-882079.0</td>\n",
       "      <td>9903623.0</td>\n",
       "      <td>1081704.0</td>\n",
       "      <td>294992.0</td>\n",
       "      <td>134584.0</td>\n",
       "      <td>1216288.0</td>\n",
       "      <td>216759.0</td>\n",
       "      <td>999529.0</td>\n",
       "      <td>999529.0</td>\n",
       "    </tr>\n",
       "  </tbody>\n",
       "</table>\n",
       "<p>10 rows × 39 columns</p>\n",
       "</div>"
      ],
      "text/plain": [
       "            index bvd_id_number country_code industry_code size_class  \\\n",
       "950743   10576267    CZ45274592           CZ             N        SME   \n",
       "950829   10576268    CZ45274592           CZ             N        SME   \n",
       "950964   10576269    CZ45274592           CZ             N        SME   \n",
       "1269590  10167990    CZ45274592           CZ             N        SME   \n",
       "1269897  10167989    CZ45274592           CZ             N        SME   \n",
       "1269931  10167985    CZ45274592           CZ             N        SME   \n",
       "1269962  10167992    CZ45274592           CZ             N        SME   \n",
       "1270154  10167993    CZ45274592           CZ             N        SME   \n",
       "1276908  10167988    CZ45274592           CZ             N        SME   \n",
       "1279533  10167984    CZ45274592           CZ             N        SME   \n",
       "\n",
       "         status_year  status_date_latest status_latest  default_indicator  \\\n",
       "950743          2002            16991231   non_default                  0   \n",
       "950829          2001            16991231   non_default                  0   \n",
       "950964          2000            16991231   non_default                  0   \n",
       "1269590         2015            16991231   non_default                  0   \n",
       "1269897         2016            16991231   non_default                  0   \n",
       "1269931         2020            16991231   non_default                  0   \n",
       "1269962         2013            16991231   non_default                  0   \n",
       "1270154         2012            16991231   non_default                  0   \n",
       "1276908         2017            16991231   non_default                  0   \n",
       "1279533         2021            16991231   non_default                  0   \n",
       "\n",
       "         fixed_assets_0  ...  total_shareh_funds_liab_0  working_capital_0  \\\n",
       "950743       21540912.0  ...                 24955644.0          -847134.0   \n",
       "950829       21476432.0  ...                 24324532.0            34455.0   \n",
       "950964       20675924.0  ...                 22964454.0           613045.0   \n",
       "1269590      36067752.0  ...                 49977528.0         10250358.0   \n",
       "1269897      35841704.0  ...                 58898488.0          9434524.0   \n",
       "1269931      52294752.0  ...                 69722256.0           911790.0   \n",
       "1269962      34018600.0  ...                 57618880.0         16662308.0   \n",
       "1270154      46384644.0  ...                 52314996.0          2173885.0   \n",
       "1276908      38733608.0  ...                 67300488.0          9052612.0   \n",
       "1279533      56058940.0  ...                 75262448.0          -882079.0   \n",
       "\n",
       "         operating_revenue_0  operating_pl_ebit_0  financial_expenses_0  \\\n",
       "950743             9378049.0             347845.0             -304250.0   \n",
       "950829             9590398.0             877610.0             1392897.0   \n",
       "950964             8567166.0             462640.0              228421.0   \n",
       "1269590            8127726.0              -7141.0              627250.0   \n",
       "1269897            9198308.0            1600899.0               57278.0   \n",
       "1269931            8395452.0              19890.0              260441.0   \n",
       "1269962            7321999.0             424227.0              971759.0   \n",
       "1270154            8681539.0            1392895.0              287497.0   \n",
       "1276908            9562554.0             402753.0              925775.0   \n",
       "1279533            9903623.0            1081704.0              294992.0   \n",
       "\n",
       "         financial_pl_0  pl_before_tax_0  taxation_0  pl_after_tax_0  \\\n",
       "950743         322789.0         670633.0     28188.0        642445.0   \n",
       "950829       -1372869.0        -495259.0    126772.0       -622031.0   \n",
       "950964        -208611.0         254028.0    223135.0         30894.0   \n",
       "1269590        720309.0         713168.0      1147.0        712021.0   \n",
       "1269897        -54466.0        1546433.0    288832.0       1257601.0   \n",
       "1269931        162856.0         182747.0     72207.0        110540.0   \n",
       "1269962      12831148.0       13255374.0   3585131.0       9670243.0   \n",
       "1270154       1937937.0        3330832.0    911493.0       2419339.0   \n",
       "1276908       -118977.0         283775.0     59959.0        223817.0   \n",
       "1279533        134584.0        1216288.0    216759.0        999529.0   \n",
       "\n",
       "         pl_for_period_net_income_0  \n",
       "950743                     831790.0  \n",
       "950829                    -577782.0  \n",
       "950964                      47577.0  \n",
       "1269590                    718496.0  \n",
       "1269897                   1257601.0  \n",
       "1269931                    110540.0  \n",
       "1269962                  15112655.0  \n",
       "1270154                   2501157.0  \n",
       "1276908                    223817.0  \n",
       "1279533                    999529.0  \n",
       "\n",
       "[10 rows x 39 columns]"
      ]
     },
     "execution_count": 171,
     "metadata": {},
     "output_type": "execute_result"
    }
   ],
   "source": [
    "df2[df2['bvd_id_number'] == 'CZ45274592']"
   ]
  },
  {
   "cell_type": "markdown",
   "metadata": {},
   "source": [
    "### Italy GDP-Micro Data"
   ]
  },
  {
   "cell_type": "code",
   "execution_count": 414,
   "metadata": {},
   "outputs": [],
   "source": [
    "dfit = pd.read_csv('gdp_italy_df.csv', sep = ';', decimal=',')"
   ]
  },
  {
   "cell_type": "code",
   "execution_count": 423,
   "metadata": {},
   "outputs": [
    {
     "data": {
      "text/plain": [
       "Index(['Unnamed: 0', 'GDP growth', 'Inflation', 'interest rate',\n",
       "       'unemployment', 'pl after tax '],\n",
       "      dtype='object')"
      ]
     },
     "execution_count": 423,
     "metadata": {},
     "output_type": "execute_result"
    }
   ],
   "source": [
    "dfit.columns"
   ]
  },
  {
   "cell_type": "code",
   "execution_count": 421,
   "metadata": {},
   "outputs": [
    {
     "data": {
      "text/html": [
       "<div>\n",
       "<style scoped>\n",
       "    .dataframe tbody tr th:only-of-type {\n",
       "        vertical-align: middle;\n",
       "    }\n",
       "\n",
       "    .dataframe tbody tr th {\n",
       "        vertical-align: top;\n",
       "    }\n",
       "\n",
       "    .dataframe thead th {\n",
       "        text-align: right;\n",
       "    }\n",
       "</style>\n",
       "<table border=\"1\" class=\"dataframe\">\n",
       "  <thead>\n",
       "    <tr style=\"text-align: right;\">\n",
       "      <th></th>\n",
       "      <th>Unnamed: 0</th>\n",
       "      <th>GDP growth</th>\n",
       "      <th>Inflation</th>\n",
       "      <th>interest rate</th>\n",
       "      <th>unemployment</th>\n",
       "      <th>pl after tax</th>\n",
       "    </tr>\n",
       "  </thead>\n",
       "  <tbody>\n",
       "    <tr>\n",
       "      <th>0</th>\n",
       "      <td>2003</td>\n",
       "      <td>0.138627</td>\n",
       "      <td>2.672556</td>\n",
       "      <td>5.830350</td>\n",
       "      <td>8.869</td>\n",
       "      <td>-74868.75</td>\n",
       "    </tr>\n",
       "    <tr>\n",
       "      <th>1</th>\n",
       "      <td>2004</td>\n",
       "      <td>1.423594</td>\n",
       "      <td>2.206737</td>\n",
       "      <td>5.506167</td>\n",
       "      <td>7.866</td>\n",
       "      <td>-25669.05</td>\n",
       "    </tr>\n",
       "    <tr>\n",
       "      <th>2</th>\n",
       "      <td>2005</td>\n",
       "      <td>0.817849</td>\n",
       "      <td>1.985293</td>\n",
       "      <td>5.313935</td>\n",
       "      <td>7.731</td>\n",
       "      <td>-31735.31</td>\n",
       "    </tr>\n",
       "    <tr>\n",
       "      <th>3</th>\n",
       "      <td>2006</td>\n",
       "      <td>1.790640</td>\n",
       "      <td>2.090844</td>\n",
       "      <td>5.621779</td>\n",
       "      <td>6.777</td>\n",
       "      <td>-52352.09</td>\n",
       "    </tr>\n",
       "    <tr>\n",
       "      <th>4</th>\n",
       "      <td>2007</td>\n",
       "      <td>1.487073</td>\n",
       "      <td>1.829741</td>\n",
       "      <td>6.334700</td>\n",
       "      <td>6.076</td>\n",
       "      <td>-14804.48</td>\n",
       "    </tr>\n",
       "  </tbody>\n",
       "</table>\n",
       "</div>"
      ],
      "text/plain": [
       "   Unnamed: 0  GDP growth  Inflation  interest rate  unemployment  \\\n",
       "0        2003    0.138627   2.672556       5.830350         8.869   \n",
       "1        2004    1.423594   2.206737       5.506167         7.866   \n",
       "2        2005    0.817849   1.985293       5.313935         7.731   \n",
       "3        2006    1.790640   2.090844       5.621779         6.777   \n",
       "4        2007    1.487073   1.829741       6.334700         6.076   \n",
       "\n",
       "   pl after tax   \n",
       "0      -74868.75  \n",
       "1      -25669.05  \n",
       "2      -31735.31  \n",
       "3      -52352.09  \n",
       "4      -14804.48  "
      ]
     },
     "execution_count": 421,
     "metadata": {},
     "output_type": "execute_result"
    }
   ],
   "source": [
    "dfit.head()"
   ]
  },
  {
   "cell_type": "code",
   "execution_count": 417,
   "metadata": {},
   "outputs": [],
   "source": [
    "X_GDP = dfit[['GDP growth', 'Inflation', 'interest rate', 'unemployment']]"
   ]
  },
  {
   "cell_type": "code",
   "execution_count": 418,
   "metadata": {},
   "outputs": [
    {
     "data": {
      "text/html": [
       "<div>\n",
       "<style scoped>\n",
       "    .dataframe tbody tr th:only-of-type {\n",
       "        vertical-align: middle;\n",
       "    }\n",
       "\n",
       "    .dataframe tbody tr th {\n",
       "        vertical-align: top;\n",
       "    }\n",
       "\n",
       "    .dataframe thead th {\n",
       "        text-align: right;\n",
       "    }\n",
       "</style>\n",
       "<table border=\"1\" class=\"dataframe\">\n",
       "  <thead>\n",
       "    <tr style=\"text-align: right;\">\n",
       "      <th></th>\n",
       "      <th>GDP growth</th>\n",
       "      <th>Inflation</th>\n",
       "      <th>interest rate</th>\n",
       "      <th>unemployment</th>\n",
       "    </tr>\n",
       "  </thead>\n",
       "  <tbody>\n",
       "    <tr>\n",
       "      <th>0</th>\n",
       "      <td>0.138627</td>\n",
       "      <td>2.672556</td>\n",
       "      <td>5.830350</td>\n",
       "      <td>8.869</td>\n",
       "    </tr>\n",
       "    <tr>\n",
       "      <th>1</th>\n",
       "      <td>1.423594</td>\n",
       "      <td>2.206737</td>\n",
       "      <td>5.506167</td>\n",
       "      <td>7.866</td>\n",
       "    </tr>\n",
       "    <tr>\n",
       "      <th>2</th>\n",
       "      <td>0.817849</td>\n",
       "      <td>1.985293</td>\n",
       "      <td>5.313935</td>\n",
       "      <td>7.731</td>\n",
       "    </tr>\n",
       "    <tr>\n",
       "      <th>3</th>\n",
       "      <td>1.790640</td>\n",
       "      <td>2.090844</td>\n",
       "      <td>5.621779</td>\n",
       "      <td>6.777</td>\n",
       "    </tr>\n",
       "    <tr>\n",
       "      <th>4</th>\n",
       "      <td>1.487073</td>\n",
       "      <td>1.829741</td>\n",
       "      <td>6.334700</td>\n",
       "      <td>6.076</td>\n",
       "    </tr>\n",
       "    <tr>\n",
       "      <th>5</th>\n",
       "      <td>-0.962013</td>\n",
       "      <td>3.347833</td>\n",
       "      <td>6.837310</td>\n",
       "      <td>6.723</td>\n",
       "    </tr>\n",
       "    <tr>\n",
       "      <th>6</th>\n",
       "      <td>-5.280937</td>\n",
       "      <td>0.774768</td>\n",
       "      <td>4.756667</td>\n",
       "      <td>7.749</td>\n",
       "    </tr>\n",
       "    <tr>\n",
       "      <th>7</th>\n",
       "      <td>1.713296</td>\n",
       "      <td>1.525516</td>\n",
       "      <td>4.031667</td>\n",
       "      <td>8.363</td>\n",
       "    </tr>\n",
       "    <tr>\n",
       "      <th>8</th>\n",
       "      <td>0.707333</td>\n",
       "      <td>2.780633</td>\n",
       "      <td>4.599167</td>\n",
       "      <td>8.359</td>\n",
       "    </tr>\n",
       "    <tr>\n",
       "      <th>9</th>\n",
       "      <td>-2.980906</td>\n",
       "      <td>3.041363</td>\n",
       "      <td>5.222500</td>\n",
       "      <td>10.655</td>\n",
       "    </tr>\n",
       "    <tr>\n",
       "      <th>10</th>\n",
       "      <td>-1.841065</td>\n",
       "      <td>1.219993</td>\n",
       "      <td>5.144167</td>\n",
       "      <td>12.149</td>\n",
       "    </tr>\n",
       "    <tr>\n",
       "      <th>11</th>\n",
       "      <td>-0.004548</td>\n",
       "      <td>0.241047</td>\n",
       "      <td>4.866667</td>\n",
       "      <td>12.683</td>\n",
       "    </tr>\n",
       "    <tr>\n",
       "      <th>12</th>\n",
       "      <td>0.778304</td>\n",
       "      <td>0.038790</td>\n",
       "      <td>4.129250</td>\n",
       "      <td>11.896</td>\n",
       "    </tr>\n",
       "    <tr>\n",
       "      <th>13</th>\n",
       "      <td>1.293463</td>\n",
       "      <td>-0.094017</td>\n",
       "      <td>3.496167</td>\n",
       "      <td>11.688</td>\n",
       "    </tr>\n",
       "    <tr>\n",
       "      <th>14</th>\n",
       "      <td>1.667859</td>\n",
       "      <td>1.226533</td>\n",
       "      <td>3.000833</td>\n",
       "      <td>11.211</td>\n",
       "    </tr>\n",
       "    <tr>\n",
       "      <th>15</th>\n",
       "      <td>0.925811</td>\n",
       "      <td>1.137488</td>\n",
       "      <td>2.680000</td>\n",
       "      <td>10.610</td>\n",
       "    </tr>\n",
       "    <tr>\n",
       "      <th>16</th>\n",
       "      <td>0.483198</td>\n",
       "      <td>0.611247</td>\n",
       "      <td>2.602500</td>\n",
       "      <td>9.952</td>\n",
       "    </tr>\n",
       "    <tr>\n",
       "      <th>17</th>\n",
       "      <td>-8.974192</td>\n",
       "      <td>-0.137708</td>\n",
       "      <td>2.328333</td>\n",
       "      <td>9.164</td>\n",
       "    </tr>\n",
       "    <tr>\n",
       "      <th>18</th>\n",
       "      <td>8.313760</td>\n",
       "      <td>1.873783</td>\n",
       "      <td>2.025917</td>\n",
       "      <td>9.497</td>\n",
       "    </tr>\n",
       "  </tbody>\n",
       "</table>\n",
       "</div>"
      ],
      "text/plain": [
       "    GDP growth  Inflation  interest rate  unemployment\n",
       "0     0.138627   2.672556       5.830350         8.869\n",
       "1     1.423594   2.206737       5.506167         7.866\n",
       "2     0.817849   1.985293       5.313935         7.731\n",
       "3     1.790640   2.090844       5.621779         6.777\n",
       "4     1.487073   1.829741       6.334700         6.076\n",
       "5    -0.962013   3.347833       6.837310         6.723\n",
       "6    -5.280937   0.774768       4.756667         7.749\n",
       "7     1.713296   1.525516       4.031667         8.363\n",
       "8     0.707333   2.780633       4.599167         8.359\n",
       "9    -2.980906   3.041363       5.222500        10.655\n",
       "10   -1.841065   1.219993       5.144167        12.149\n",
       "11   -0.004548   0.241047       4.866667        12.683\n",
       "12    0.778304   0.038790       4.129250        11.896\n",
       "13    1.293463  -0.094017       3.496167        11.688\n",
       "14    1.667859   1.226533       3.000833        11.211\n",
       "15    0.925811   1.137488       2.680000        10.610\n",
       "16    0.483198   0.611247       2.602500         9.952\n",
       "17   -8.974192  -0.137708       2.328333         9.164\n",
       "18    8.313760   1.873783       2.025917         9.497"
      ]
     },
     "execution_count": 418,
     "metadata": {},
     "output_type": "execute_result"
    }
   ],
   "source": [
    "X_GDP"
   ]
  },
  {
   "cell_type": "code",
   "execution_count": 424,
   "metadata": {},
   "outputs": [],
   "source": [
    "y = dfit['pl after tax ']"
   ]
  },
  {
   "cell_type": "code",
   "execution_count": 441,
   "metadata": {},
   "outputs": [
    {
     "data": {
      "text/plain": [
       "[status_year\n",
       " 2021    282442.3125\n",
       " Name: pl_after_tax_0, dtype: float32,\n",
       " status_year\n",
       " 2021    282442.3125\n",
       " Name: pl_after_tax_0, dtype: float32,\n",
       " status_year\n",
       " 2021    282442.3125\n",
       " Name: pl_after_tax_0, dtype: float32,\n",
       " status_year\n",
       " 2021    282442.3125\n",
       " Name: pl_after_tax_0, dtype: float32,\n",
       " status_year\n",
       " 2021    282442.3125\n",
       " Name: pl_after_tax_0, dtype: float32,\n",
       " status_year\n",
       " 2021    282442.3125\n",
       " Name: pl_after_tax_0, dtype: float32,\n",
       " status_year\n",
       " 2021    282442.3125\n",
       " Name: pl_after_tax_0, dtype: float32,\n",
       " status_year\n",
       " 2021    282442.3125\n",
       " Name: pl_after_tax_0, dtype: float32,\n",
       " status_year\n",
       " 2021    282442.3125\n",
       " Name: pl_after_tax_0, dtype: float32,\n",
       " status_year\n",
       " 2021    282442.3125\n",
       " Name: pl_after_tax_0, dtype: float32,\n",
       " status_year\n",
       " 2021    282442.3125\n",
       " Name: pl_after_tax_0, dtype: float32,\n",
       " status_year\n",
       " 2021    282442.3125\n",
       " Name: pl_after_tax_0, dtype: float32,\n",
       " status_year\n",
       " 2021    282442.3125\n",
       " Name: pl_after_tax_0, dtype: float32,\n",
       " status_year\n",
       " 2021    282442.3125\n",
       " Name: pl_after_tax_0, dtype: float32,\n",
       " status_year\n",
       " 2021    282442.3125\n",
       " Name: pl_after_tax_0, dtype: float32,\n",
       " status_year\n",
       " 2021    282442.3125\n",
       " Name: pl_after_tax_0, dtype: float32,\n",
       " status_year\n",
       " 2021    282442.3125\n",
       " Name: pl_after_tax_0, dtype: float32,\n",
       " status_year\n",
       " 2021    282442.3125\n",
       " Name: pl_after_tax_0, dtype: float32,\n",
       " status_year\n",
       " 2021    282442.3125\n",
       " Name: pl_after_tax_0, dtype: float32]"
      ]
     },
     "execution_count": 441,
     "metadata": {},
     "output_type": "execute_result"
    }
   ],
   "source": [
    "pl"
   ]
  },
  {
   "cell_type": "code",
   "execution_count": 539,
   "metadata": {},
   "outputs": [
    {
     "name": "stdout",
     "output_type": "stream",
     "text": [
      "                            OLS Regression Results                            \n",
      "==============================================================================\n",
      "Dep. Variable:                      y   R-squared:                       0.742\n",
      "Model:                            OLS   Adj. R-squared:                  0.662\n",
      "Method:                 Least Squares   F-statistic:                     9.341\n",
      "Date:                Tue, 23 Jan 2024   Prob (F-statistic):           0.000875\n",
      "Time:                        15:45:05   Log-Likelihood:                -239.43\n",
      "No. Observations:                  18   AIC:                             488.9\n",
      "Df Residuals:                      13   BIC:                             493.3\n",
      "Df Model:                           4                                         \n",
      "Covariance Type:            nonrobust                                         \n",
      "=================================================================================\n",
      "                    coef    std err          t      P>|t|      [0.025      0.975]\n",
      "---------------------------------------------------------------------------------\n",
      "const         -1.002e+05   4.27e+04     -2.349      0.035   -1.92e+05   -8038.358\n",
      "GDP growth     4.781e+04   9441.154      5.064      0.000    2.74e+04    6.82e+04\n",
      "Inflation     -1.891e+04   4.98e+04     -0.380      0.710   -1.27e+05    8.87e+04\n",
      "interest rate -2.497e+04   7.61e+04     -0.328      0.748   -1.89e+05     1.4e+05\n",
      "unemployment  -7.176e+04   4.55e+04     -1.576      0.139    -1.7e+05    2.66e+04\n",
      "==============================================================================\n",
      "Omnibus:                        1.078   Durbin-Watson:                   1.549\n",
      "Prob(Omnibus):                  0.583   Jarque-Bera (JB):                0.180\n",
      "Skew:                           0.198   Prob(JB):                        0.914\n",
      "Kurtosis:                       3.287   Cond. No.                         11.0\n",
      "==============================================================================\n",
      "\n",
      "Notes:\n",
      "[1] Standard Errors assume that the covariance matrix of the errors is correctly specified.\n"
     ]
    },
    {
     "name": "stderr",
     "output_type": "stream",
     "text": [
      "/Users/Jakub/miniconda/lib/python3.10/site-packages/scipy/stats/_stats_py.py:1736: UserWarning: kurtosistest only valid for n>=20 ... continuing anyway, n=18\n",
      "  warnings.warn(\"kurtosistest only valid for n>=20 ... continuing \"\n"
     ]
    }
   ],
   "source": [
    "import statsmodels.api as sm\n",
    "\n",
    "\n",
    "X2 = sm.add_constant(X_GDP.diff().dropna())\n",
    "est = sm.OLS(pl, X2)\n",
    "est2 = est.fit()\n",
    "print(est2.summary())"
   ]
  },
  {
   "cell_type": "code",
   "execution_count": 492,
   "metadata": {},
   "outputs": [
    {
     "data": {
      "text/plain": [
       "status_year\n",
       "2003   NaN\n",
       "2004   NaN\n",
       "Name: pl_after_tax_0, dtype: float32"
      ]
     },
     "execution_count": 492,
     "metadata": {},
     "output_type": "execute_result"
    }
   ],
   "source": [
    "pl[1] - pl[0]"
   ]
  },
  {
   "cell_type": "code",
   "execution_count": 450,
   "metadata": {},
   "outputs": [
    {
     "data": {
      "text/plain": [
       "[<matplotlib.lines.Line2D at 0x2ff8147c0>]"
      ]
     },
     "execution_count": 450,
     "metadata": {},
     "output_type": "execute_result"
    },
    {
     "data": {
      "image/png": "[encoded data removed]",
      "text/plain": [
       "<Figure size 640x480 with 1 Axes>"
      ]
     },
     "metadata": {},
     "output_type": "display_data"
    }
   ],
   "source": [
    "plt.plot(X_GDP['unemployment'])"
   ]
  },
  {
   "cell_type": "code",
   "execution_count": 455,
   "metadata": {},
   "outputs": [
    {
     "data": {
      "text/plain": [
       "[<matplotlib.lines.Line2D at 0x2ffb9c850>]"
      ]
     },
     "execution_count": 455,
     "metadata": {},
     "output_type": "execute_result"
    },
    {
     "data": {
      "image/png": "[encoded data removed]",
      "text/plain": [
       "<Figure size 640x480 with 1 Axes>"
      ]
     },
     "metadata": {},
     "output_type": "display_data"
    }
   ],
   "source": [
    "plt.plot(X_GDP.diff()['unemployment'])"
   ]
  },
  {
   "cell_type": "code",
   "execution_count": 467,
   "metadata": {},
   "outputs": [],
   "source": [
    "X_GDP_d = pd.concat([X_GDP.iloc[1:, 0], X_GDP.iloc[:, 1:].diff()], axis = 1).dropna()"
   ]
  },
  {
   "cell_type": "code",
   "execution_count": 473,
   "metadata": {},
   "outputs": [
    {
     "data": {
      "text/plain": [
       "[<matplotlib.lines.Line2D at 0x30faccc40>]"
      ]
     },
     "execution_count": 473,
     "metadata": {},
     "output_type": "execute_result"
    },
    {
     "data": {
      "image/png": "[encoded data removed]",
      "text/plain": [
       "<Figure size 640x480 with 1 Axes>"
      ]
     },
     "metadata": {},
     "output_type": "display_data"
    }
   ],
   "source": [
    "plt.plot(X_GDP_d['unemployment'])"
   ]
  },
  {
   "cell_type": "code",
   "execution_count": 472,
   "metadata": {},
   "outputs": [
    {
     "data": {
      "text/html": [
       "<div>\n",
       "<style scoped>\n",
       "    .dataframe tbody tr th:only-of-type {\n",
       "        vertical-align: middle;\n",
       "    }\n",
       "\n",
       "    .dataframe tbody tr th {\n",
       "        vertical-align: top;\n",
       "    }\n",
       "\n",
       "    .dataframe thead th {\n",
       "        text-align: right;\n",
       "    }\n",
       "</style>\n",
       "<table border=\"1\" class=\"dataframe\">\n",
       "  <thead>\n",
       "    <tr style=\"text-align: right;\">\n",
       "      <th></th>\n",
       "      <th>GDP growth</th>\n",
       "      <th>Inflation</th>\n",
       "      <th>interest rate</th>\n",
       "      <th>unemployment</th>\n",
       "    </tr>\n",
       "  </thead>\n",
       "  <tbody>\n",
       "    <tr>\n",
       "      <th>0</th>\n",
       "      <td>NaN</td>\n",
       "      <td>NaN</td>\n",
       "      <td>NaN</td>\n",
       "      <td>NaN</td>\n",
       "    </tr>\n",
       "    <tr>\n",
       "      <th>1</th>\n",
       "      <td>1.284967</td>\n",
       "      <td>-0.465819</td>\n",
       "      <td>-0.324183</td>\n",
       "      <td>-1.003</td>\n",
       "    </tr>\n",
       "    <tr>\n",
       "      <th>2</th>\n",
       "      <td>-0.605745</td>\n",
       "      <td>-0.221444</td>\n",
       "      <td>-0.192232</td>\n",
       "      <td>-0.135</td>\n",
       "    </tr>\n",
       "    <tr>\n",
       "      <th>3</th>\n",
       "      <td>0.972791</td>\n",
       "      <td>0.105551</td>\n",
       "      <td>0.307844</td>\n",
       "      <td>-0.954</td>\n",
       "    </tr>\n",
       "    <tr>\n",
       "      <th>4</th>\n",
       "      <td>-0.303567</td>\n",
       "      <td>-0.261103</td>\n",
       "      <td>0.712921</td>\n",
       "      <td>-0.701</td>\n",
       "    </tr>\n",
       "    <tr>\n",
       "      <th>5</th>\n",
       "      <td>-2.449086</td>\n",
       "      <td>1.518091</td>\n",
       "      <td>0.502610</td>\n",
       "      <td>0.647</td>\n",
       "    </tr>\n",
       "    <tr>\n",
       "      <th>6</th>\n",
       "      <td>-4.318924</td>\n",
       "      <td>-2.573064</td>\n",
       "      <td>-2.080643</td>\n",
       "      <td>1.026</td>\n",
       "    </tr>\n",
       "    <tr>\n",
       "      <th>7</th>\n",
       "      <td>6.994233</td>\n",
       "      <td>0.750748</td>\n",
       "      <td>-0.725000</td>\n",
       "      <td>0.614</td>\n",
       "    </tr>\n",
       "    <tr>\n",
       "      <th>8</th>\n",
       "      <td>-1.005962</td>\n",
       "      <td>1.255117</td>\n",
       "      <td>0.567500</td>\n",
       "      <td>-0.004</td>\n",
       "    </tr>\n",
       "    <tr>\n",
       "      <th>9</th>\n",
       "      <td>-3.688239</td>\n",
       "      <td>0.260731</td>\n",
       "      <td>0.623333</td>\n",
       "      <td>2.296</td>\n",
       "    </tr>\n",
       "    <tr>\n",
       "      <th>10</th>\n",
       "      <td>1.139840</td>\n",
       "      <td>-1.821370</td>\n",
       "      <td>-0.078333</td>\n",
       "      <td>1.494</td>\n",
       "    </tr>\n",
       "    <tr>\n",
       "      <th>11</th>\n",
       "      <td>1.836518</td>\n",
       "      <td>-0.978946</td>\n",
       "      <td>-0.277500</td>\n",
       "      <td>0.534</td>\n",
       "    </tr>\n",
       "    <tr>\n",
       "      <th>12</th>\n",
       "      <td>0.782852</td>\n",
       "      <td>-0.202257</td>\n",
       "      <td>-0.737417</td>\n",
       "      <td>-0.787</td>\n",
       "    </tr>\n",
       "    <tr>\n",
       "      <th>13</th>\n",
       "      <td>0.515158</td>\n",
       "      <td>-0.132807</td>\n",
       "      <td>-0.633083</td>\n",
       "      <td>-0.208</td>\n",
       "    </tr>\n",
       "    <tr>\n",
       "      <th>14</th>\n",
       "      <td>0.374396</td>\n",
       "      <td>1.320550</td>\n",
       "      <td>-0.495333</td>\n",
       "      <td>-0.477</td>\n",
       "    </tr>\n",
       "    <tr>\n",
       "      <th>15</th>\n",
       "      <td>-0.742048</td>\n",
       "      <td>-0.089046</td>\n",
       "      <td>-0.320833</td>\n",
       "      <td>-0.601</td>\n",
       "    </tr>\n",
       "    <tr>\n",
       "      <th>16</th>\n",
       "      <td>-0.442613</td>\n",
       "      <td>-0.526241</td>\n",
       "      <td>-0.077500</td>\n",
       "      <td>-0.658</td>\n",
       "    </tr>\n",
       "    <tr>\n",
       "      <th>17</th>\n",
       "      <td>-9.457390</td>\n",
       "      <td>-0.748955</td>\n",
       "      <td>-0.274167</td>\n",
       "      <td>-0.788</td>\n",
       "    </tr>\n",
       "    <tr>\n",
       "      <th>18</th>\n",
       "      <td>17.287952</td>\n",
       "      <td>2.011491</td>\n",
       "      <td>-0.302417</td>\n",
       "      <td>0.333</td>\n",
       "    </tr>\n",
       "  </tbody>\n",
       "</table>\n",
       "</div>"
      ],
      "text/plain": [
       "    GDP growth  Inflation  interest rate  unemployment\n",
       "0          NaN        NaN            NaN           NaN\n",
       "1     1.284967  -0.465819      -0.324183        -1.003\n",
       "2    -0.605745  -0.221444      -0.192232        -0.135\n",
       "3     0.972791   0.105551       0.307844        -0.954\n",
       "4    -0.303567  -0.261103       0.712921        -0.701\n",
       "5    -2.449086   1.518091       0.502610         0.647\n",
       "6    -4.318924  -2.573064      -2.080643         1.026\n",
       "7     6.994233   0.750748      -0.725000         0.614\n",
       "8    -1.005962   1.255117       0.567500        -0.004\n",
       "9    -3.688239   0.260731       0.623333         2.296\n",
       "10    1.139840  -1.821370      -0.078333         1.494\n",
       "11    1.836518  -0.978946      -0.277500         0.534\n",
       "12    0.782852  -0.202257      -0.737417        -0.787\n",
       "13    0.515158  -0.132807      -0.633083        -0.208\n",
       "14    0.374396   1.320550      -0.495333        -0.477\n",
       "15   -0.742048  -0.089046      -0.320833        -0.601\n",
       "16   -0.442613  -0.526241      -0.077500        -0.658\n",
       "17   -9.457390  -0.748955      -0.274167        -0.788\n",
       "18   17.287952   2.011491      -0.302417         0.333"
      ]
     },
     "execution_count": 472,
     "metadata": {},
     "output_type": "execute_result"
    }
   ],
   "source": [
    "X_GDP.diff()"
   ]
  },
  {
   "cell_type": "code",
   "execution_count": 522,
   "metadata": {},
   "outputs": [
    {
     "data": {
      "text/html": [
       "<div>\n",
       "<style scoped>\n",
       "    .dataframe tbody tr th:only-of-type {\n",
       "        vertical-align: middle;\n",
       "    }\n",
       "\n",
       "    .dataframe tbody tr th {\n",
       "        vertical-align: top;\n",
       "    }\n",
       "\n",
       "    .dataframe thead th {\n",
       "        text-align: right;\n",
       "    }\n",
       "</style>\n",
       "<table border=\"1\" class=\"dataframe\">\n",
       "  <thead>\n",
       "    <tr style=\"text-align: right;\">\n",
       "      <th></th>\n",
       "      <th>GDP growth</th>\n",
       "      <th>Inflation</th>\n",
       "      <th>interest rate</th>\n",
       "      <th>unemployment</th>\n",
       "    </tr>\n",
       "  </thead>\n",
       "  <tbody>\n",
       "    <tr>\n",
       "      <th>0</th>\n",
       "      <td>0.138627</td>\n",
       "      <td>2.672556</td>\n",
       "      <td>5.830350</td>\n",
       "      <td>8.869</td>\n",
       "    </tr>\n",
       "    <tr>\n",
       "      <th>1</th>\n",
       "      <td>1.423594</td>\n",
       "      <td>2.206737</td>\n",
       "      <td>5.506167</td>\n",
       "      <td>7.866</td>\n",
       "    </tr>\n",
       "    <tr>\n",
       "      <th>2</th>\n",
       "      <td>0.817849</td>\n",
       "      <td>1.985293</td>\n",
       "      <td>5.313935</td>\n",
       "      <td>7.731</td>\n",
       "    </tr>\n",
       "    <tr>\n",
       "      <th>3</th>\n",
       "      <td>1.790640</td>\n",
       "      <td>2.090844</td>\n",
       "      <td>5.621779</td>\n",
       "      <td>6.777</td>\n",
       "    </tr>\n",
       "    <tr>\n",
       "      <th>4</th>\n",
       "      <td>1.487073</td>\n",
       "      <td>1.829741</td>\n",
       "      <td>6.334700</td>\n",
       "      <td>6.076</td>\n",
       "    </tr>\n",
       "    <tr>\n",
       "      <th>5</th>\n",
       "      <td>-0.962013</td>\n",
       "      <td>3.347833</td>\n",
       "      <td>6.837310</td>\n",
       "      <td>6.723</td>\n",
       "    </tr>\n",
       "    <tr>\n",
       "      <th>6</th>\n",
       "      <td>-5.280937</td>\n",
       "      <td>0.774768</td>\n",
       "      <td>4.756667</td>\n",
       "      <td>7.749</td>\n",
       "    </tr>\n",
       "    <tr>\n",
       "      <th>7</th>\n",
       "      <td>1.713296</td>\n",
       "      <td>1.525516</td>\n",
       "      <td>4.031667</td>\n",
       "      <td>8.363</td>\n",
       "    </tr>\n",
       "    <tr>\n",
       "      <th>8</th>\n",
       "      <td>0.707333</td>\n",
       "      <td>2.780633</td>\n",
       "      <td>4.599167</td>\n",
       "      <td>8.359</td>\n",
       "    </tr>\n",
       "    <tr>\n",
       "      <th>9</th>\n",
       "      <td>-2.980906</td>\n",
       "      <td>3.041363</td>\n",
       "      <td>5.222500</td>\n",
       "      <td>10.655</td>\n",
       "    </tr>\n",
       "    <tr>\n",
       "      <th>10</th>\n",
       "      <td>-1.841065</td>\n",
       "      <td>1.219993</td>\n",
       "      <td>5.144167</td>\n",
       "      <td>12.149</td>\n",
       "    </tr>\n",
       "    <tr>\n",
       "      <th>11</th>\n",
       "      <td>-0.004548</td>\n",
       "      <td>0.241047</td>\n",
       "      <td>4.866667</td>\n",
       "      <td>12.683</td>\n",
       "    </tr>\n",
       "    <tr>\n",
       "      <th>12</th>\n",
       "      <td>0.778304</td>\n",
       "      <td>0.038790</td>\n",
       "      <td>4.129250</td>\n",
       "      <td>11.896</td>\n",
       "    </tr>\n",
       "    <tr>\n",
       "      <th>13</th>\n",
       "      <td>1.293463</td>\n",
       "      <td>-0.094017</td>\n",
       "      <td>3.496167</td>\n",
       "      <td>11.688</td>\n",
       "    </tr>\n",
       "    <tr>\n",
       "      <th>14</th>\n",
       "      <td>1.667859</td>\n",
       "      <td>1.226533</td>\n",
       "      <td>3.000833</td>\n",
       "      <td>11.211</td>\n",
       "    </tr>\n",
       "    <tr>\n",
       "      <th>15</th>\n",
       "      <td>0.925811</td>\n",
       "      <td>1.137488</td>\n",
       "      <td>2.680000</td>\n",
       "      <td>10.610</td>\n",
       "    </tr>\n",
       "    <tr>\n",
       "      <th>16</th>\n",
       "      <td>0.483198</td>\n",
       "      <td>0.611247</td>\n",
       "      <td>2.602500</td>\n",
       "      <td>9.952</td>\n",
       "    </tr>\n",
       "    <tr>\n",
       "      <th>17</th>\n",
       "      <td>-8.974192</td>\n",
       "      <td>-0.137708</td>\n",
       "      <td>2.328333</td>\n",
       "      <td>9.164</td>\n",
       "    </tr>\n",
       "    <tr>\n",
       "      <th>18</th>\n",
       "      <td>8.313760</td>\n",
       "      <td>1.873783</td>\n",
       "      <td>2.025917</td>\n",
       "      <td>9.497</td>\n",
       "    </tr>\n",
       "  </tbody>\n",
       "</table>\n",
       "</div>"
      ],
      "text/plain": [
       "    GDP growth  Inflation  interest rate  unemployment\n",
       "0     0.138627   2.672556       5.830350         8.869\n",
       "1     1.423594   2.206737       5.506167         7.866\n",
       "2     0.817849   1.985293       5.313935         7.731\n",
       "3     1.790640   2.090844       5.621779         6.777\n",
       "4     1.487073   1.829741       6.334700         6.076\n",
       "5    -0.962013   3.347833       6.837310         6.723\n",
       "6    -5.280937   0.774768       4.756667         7.749\n",
       "7     1.713296   1.525516       4.031667         8.363\n",
       "8     0.707333   2.780633       4.599167         8.359\n",
       "9    -2.980906   3.041363       5.222500        10.655\n",
       "10   -1.841065   1.219993       5.144167        12.149\n",
       "11   -0.004548   0.241047       4.866667        12.683\n",
       "12    0.778304   0.038790       4.129250        11.896\n",
       "13    1.293463  -0.094017       3.496167        11.688\n",
       "14    1.667859   1.226533       3.000833        11.211\n",
       "15    0.925811   1.137488       2.680000        10.610\n",
       "16    0.483198   0.611247       2.602500         9.952\n",
       "17   -8.974192  -0.137708       2.328333         9.164\n",
       "18    8.313760   1.873783       2.025917         9.497"
      ]
     },
     "execution_count": 522,
     "metadata": {},
     "output_type": "execute_result"
    }
   ],
   "source": [
    "X_GDP"
   ]
  },
  {
   "cell_type": "markdown",
   "metadata": {},
   "source": [
    "### XGBOOST MICRO + MAKRO ITALY"
   ]
  },
  {
   "cell_type": "code",
   "execution_count": 567,
   "metadata": {},
   "outputs": [],
   "source": [
    "df_mm_it = df2[(df2['country_code'] == 'IT')].merge(dfit, on = 'status_year')"
   ]
  },
  {
   "cell_type": "code",
   "execution_count": 568,
   "metadata": {},
   "outputs": [],
   "source": [
    "dfit = dfit.rename(columns={\"Unnamed: 0\": \"status_year\"})"
   ]
  },
  {
   "cell_type": "code",
   "execution_count": 569,
   "metadata": {},
   "outputs": [],
   "source": [
    "y = df_mm_it['default_indicator']"
   ]
  },
  {
   "cell_type": "code",
   "execution_count": 570,
   "metadata": {},
   "outputs": [],
   "source": [
    "X = df_mm_it.iloc[:, 9:]"
   ]
  },
  {
   "cell_type": "code",
   "execution_count": 571,
   "metadata": {},
   "outputs": [
    {
     "data": {
      "text/html": [
       "<div>\n",
       "<style scoped>\n",
       "    .dataframe tbody tr th:only-of-type {\n",
       "        vertical-align: middle;\n",
       "    }\n",
       "\n",
       "    .dataframe tbody tr th {\n",
       "        vertical-align: top;\n",
       "    }\n",
       "\n",
       "    .dataframe thead th {\n",
       "        text-align: right;\n",
       "    }\n",
       "</style>\n",
       "<table border=\"1\" class=\"dataframe\">\n",
       "  <thead>\n",
       "    <tr style=\"text-align: right;\">\n",
       "      <th></th>\n",
       "      <th>fixed_assets_0</th>\n",
       "      <th>intangible_fixed_assets_0</th>\n",
       "      <th>tangible_fixed_assets_0</th>\n",
       "      <th>other_fixed_assets_0</th>\n",
       "      <th>current_assets_0</th>\n",
       "      <th>stock_0</th>\n",
       "      <th>debtors_0</th>\n",
       "      <th>other_current_assets_0</th>\n",
       "      <th>cash_cash_equivalent_0</th>\n",
       "      <th>total_assets_0</th>\n",
       "      <th>...</th>\n",
       "      <th>financial_pl_0</th>\n",
       "      <th>pl_before_tax_0</th>\n",
       "      <th>taxation_0</th>\n",
       "      <th>pl_after_tax_0</th>\n",
       "      <th>pl_for_period_net_income_0</th>\n",
       "      <th>GDP growth</th>\n",
       "      <th>Inflation</th>\n",
       "      <th>interest rate</th>\n",
       "      <th>unemployment</th>\n",
       "      <th>pl after tax</th>\n",
       "    </tr>\n",
       "  </thead>\n",
       "  <tbody>\n",
       "    <tr>\n",
       "      <th>0</th>\n",
       "      <td>1384038.0</td>\n",
       "      <td>819427.0</td>\n",
       "      <td>559611.0</td>\n",
       "      <td>5000.0</td>\n",
       "      <td>1744301.0</td>\n",
       "      <td>269078.0</td>\n",
       "      <td>398247.0</td>\n",
       "      <td>1076976.0</td>\n",
       "      <td>924514.0</td>\n",
       "      <td>3128339.0</td>\n",
       "      <td>...</td>\n",
       "      <td>1948.0</td>\n",
       "      <td>159880.0</td>\n",
       "      <td>99269.0</td>\n",
       "      <td>60611.0</td>\n",
       "      <td>60611.0</td>\n",
       "      <td>1.790640</td>\n",
       "      <td>2.090844</td>\n",
       "      <td>5.621779</td>\n",
       "      <td>6.777</td>\n",
       "      <td>-52352.09</td>\n",
       "    </tr>\n",
       "    <tr>\n",
       "      <th>1</th>\n",
       "      <td>3016435.0</td>\n",
       "      <td>98714.0</td>\n",
       "      <td>2814471.0</td>\n",
       "      <td>103250.0</td>\n",
       "      <td>5141557.0</td>\n",
       "      <td>2104577.0</td>\n",
       "      <td>2498803.0</td>\n",
       "      <td>538177.0</td>\n",
       "      <td>90013.0</td>\n",
       "      <td>8157992.0</td>\n",
       "      <td>...</td>\n",
       "      <td>-158914.0</td>\n",
       "      <td>302441.0</td>\n",
       "      <td>225492.0</td>\n",
       "      <td>76949.0</td>\n",
       "      <td>75445.0</td>\n",
       "      <td>1.790640</td>\n",
       "      <td>2.090844</td>\n",
       "      <td>5.621779</td>\n",
       "      <td>6.777</td>\n",
       "      <td>-52352.09</td>\n",
       "    </tr>\n",
       "    <tr>\n",
       "      <th>2</th>\n",
       "      <td>390019.0</td>\n",
       "      <td>3648.0</td>\n",
       "      <td>254921.0</td>\n",
       "      <td>131450.0</td>\n",
       "      <td>8107921.0</td>\n",
       "      <td>619529.0</td>\n",
       "      <td>6627795.0</td>\n",
       "      <td>860597.0</td>\n",
       "      <td>159140.0</td>\n",
       "      <td>8497940.0</td>\n",
       "      <td>...</td>\n",
       "      <td>-66367.0</td>\n",
       "      <td>568535.0</td>\n",
       "      <td>274065.0</td>\n",
       "      <td>294470.0</td>\n",
       "      <td>294470.0</td>\n",
       "      <td>1.790640</td>\n",
       "      <td>2.090844</td>\n",
       "      <td>5.621779</td>\n",
       "      <td>6.777</td>\n",
       "      <td>-52352.09</td>\n",
       "    </tr>\n",
       "    <tr>\n",
       "      <th>3</th>\n",
       "      <td>170327008.0</td>\n",
       "      <td>1788000.0</td>\n",
       "      <td>161552992.0</td>\n",
       "      <td>6986000.0</td>\n",
       "      <td>27079000.0</td>\n",
       "      <td>6864000.0</td>\n",
       "      <td>1528000.0</td>\n",
       "      <td>18687000.0</td>\n",
       "      <td>9419000.0</td>\n",
       "      <td>197406000.0</td>\n",
       "      <td>...</td>\n",
       "      <td>-1112000.0</td>\n",
       "      <td>-2252000.0</td>\n",
       "      <td>586000.0</td>\n",
       "      <td>-2838000.0</td>\n",
       "      <td>-2662000.0</td>\n",
       "      <td>1.790640</td>\n",
       "      <td>2.090844</td>\n",
       "      <td>5.621779</td>\n",
       "      <td>6.777</td>\n",
       "      <td>-52352.09</td>\n",
       "    </tr>\n",
       "    <tr>\n",
       "      <th>4</th>\n",
       "      <td>7407750.0</td>\n",
       "      <td>3971765.0</td>\n",
       "      <td>2418803.0</td>\n",
       "      <td>1017182.0</td>\n",
       "      <td>4999136.0</td>\n",
       "      <td>65404.0</td>\n",
       "      <td>3069240.0</td>\n",
       "      <td>1864492.0</td>\n",
       "      <td>411733.0</td>\n",
       "      <td>12406886.0</td>\n",
       "      <td>...</td>\n",
       "      <td>-98701.0</td>\n",
       "      <td>-294917.0</td>\n",
       "      <td>130288.0</td>\n",
       "      <td>-425205.0</td>\n",
       "      <td>9214.0</td>\n",
       "      <td>1.790640</td>\n",
       "      <td>2.090844</td>\n",
       "      <td>5.621779</td>\n",
       "      <td>6.777</td>\n",
       "      <td>-52352.09</td>\n",
       "    </tr>\n",
       "    <tr>\n",
       "      <th>...</th>\n",
       "      <td>...</td>\n",
       "      <td>...</td>\n",
       "      <td>...</td>\n",
       "      <td>...</td>\n",
       "      <td>...</td>\n",
       "      <td>...</td>\n",
       "      <td>...</td>\n",
       "      <td>...</td>\n",
       "      <td>...</td>\n",
       "      <td>...</td>\n",
       "      <td>...</td>\n",
       "      <td>...</td>\n",
       "      <td>...</td>\n",
       "      <td>...</td>\n",
       "      <td>...</td>\n",
       "      <td>...</td>\n",
       "      <td>...</td>\n",
       "      <td>...</td>\n",
       "      <td>...</td>\n",
       "      <td>...</td>\n",
       "      <td>...</td>\n",
       "    </tr>\n",
       "    <tr>\n",
       "      <th>286438</th>\n",
       "      <td>198686.0</td>\n",
       "      <td>74533.0</td>\n",
       "      <td>94188.0</td>\n",
       "      <td>29965.0</td>\n",
       "      <td>1722260.0</td>\n",
       "      <td>315809.0</td>\n",
       "      <td>1267688.0</td>\n",
       "      <td>138763.0</td>\n",
       "      <td>102436.0</td>\n",
       "      <td>1920946.0</td>\n",
       "      <td>...</td>\n",
       "      <td>3472.0</td>\n",
       "      <td>-83124.0</td>\n",
       "      <td>23916.0</td>\n",
       "      <td>-107040.0</td>\n",
       "      <td>-63768.0</td>\n",
       "      <td>-0.962013</td>\n",
       "      <td>3.347833</td>\n",
       "      <td>6.837310</td>\n",
       "      <td>6.723</td>\n",
       "      <td>-49493.92</td>\n",
       "    </tr>\n",
       "    <tr>\n",
       "      <th>286439</th>\n",
       "      <td>2840274.0</td>\n",
       "      <td>0.0</td>\n",
       "      <td>0.0</td>\n",
       "      <td>2840274.0</td>\n",
       "      <td>31907100.0</td>\n",
       "      <td>188054.0</td>\n",
       "      <td>10275479.0</td>\n",
       "      <td>21443568.0</td>\n",
       "      <td>877234.0</td>\n",
       "      <td>34747376.0</td>\n",
       "      <td>...</td>\n",
       "      <td>608.0</td>\n",
       "      <td>2863122.0</td>\n",
       "      <td>351175.0</td>\n",
       "      <td>2511947.0</td>\n",
       "      <td>2554006.0</td>\n",
       "      <td>-0.962013</td>\n",
       "      <td>3.347833</td>\n",
       "      <td>6.837310</td>\n",
       "      <td>6.723</td>\n",
       "      <td>-49493.92</td>\n",
       "    </tr>\n",
       "    <tr>\n",
       "      <th>286440</th>\n",
       "      <td>165030.0</td>\n",
       "      <td>25983.0</td>\n",
       "      <td>106047.0</td>\n",
       "      <td>33000.0</td>\n",
       "      <td>2843449.0</td>\n",
       "      <td>1566897.0</td>\n",
       "      <td>997684.0</td>\n",
       "      <td>278868.0</td>\n",
       "      <td>5850.0</td>\n",
       "      <td>3008479.0</td>\n",
       "      <td>...</td>\n",
       "      <td>-44202.0</td>\n",
       "      <td>96074.0</td>\n",
       "      <td>67007.0</td>\n",
       "      <td>29067.0</td>\n",
       "      <td>29066.0</td>\n",
       "      <td>-0.962013</td>\n",
       "      <td>3.347833</td>\n",
       "      <td>6.837310</td>\n",
       "      <td>6.723</td>\n",
       "      <td>-49493.92</td>\n",
       "    </tr>\n",
       "    <tr>\n",
       "      <th>286441</th>\n",
       "      <td>519138.0</td>\n",
       "      <td>12577.0</td>\n",
       "      <td>242843.0</td>\n",
       "      <td>263718.0</td>\n",
       "      <td>7969588.0</td>\n",
       "      <td>4368267.0</td>\n",
       "      <td>3407603.0</td>\n",
       "      <td>193718.0</td>\n",
       "      <td>10652.0</td>\n",
       "      <td>8488726.0</td>\n",
       "      <td>...</td>\n",
       "      <td>-374097.0</td>\n",
       "      <td>21173.0</td>\n",
       "      <td>67023.0</td>\n",
       "      <td>-45850.0</td>\n",
       "      <td>-53105.0</td>\n",
       "      <td>-0.962013</td>\n",
       "      <td>3.347833</td>\n",
       "      <td>6.837310</td>\n",
       "      <td>6.723</td>\n",
       "      <td>-49493.92</td>\n",
       "    </tr>\n",
       "    <tr>\n",
       "      <th>286442</th>\n",
       "      <td>218618.0</td>\n",
       "      <td>17052.0</td>\n",
       "      <td>201566.0</td>\n",
       "      <td>0.0</td>\n",
       "      <td>1449493.0</td>\n",
       "      <td>990441.0</td>\n",
       "      <td>234770.0</td>\n",
       "      <td>224282.0</td>\n",
       "      <td>190745.0</td>\n",
       "      <td>1668111.0</td>\n",
       "      <td>...</td>\n",
       "      <td>16644.0</td>\n",
       "      <td>155073.0</td>\n",
       "      <td>54714.0</td>\n",
       "      <td>100359.0</td>\n",
       "      <td>100360.0</td>\n",
       "      <td>-0.962013</td>\n",
       "      <td>3.347833</td>\n",
       "      <td>6.837310</td>\n",
       "      <td>6.723</td>\n",
       "      <td>-49493.92</td>\n",
       "    </tr>\n",
       "  </tbody>\n",
       "</table>\n",
       "<p>286443 rows × 35 columns</p>\n",
       "</div>"
      ],
      "text/plain": [
       "        fixed_assets_0  intangible_fixed_assets_0  tangible_fixed_assets_0  \\\n",
       "0            1384038.0                   819427.0                 559611.0   \n",
       "1            3016435.0                    98714.0                2814471.0   \n",
       "2             390019.0                     3648.0                 254921.0   \n",
       "3          170327008.0                  1788000.0              161552992.0   \n",
       "4            7407750.0                  3971765.0                2418803.0   \n",
       "...                ...                        ...                      ...   \n",
       "286438        198686.0                    74533.0                  94188.0   \n",
       "286439       2840274.0                        0.0                      0.0   \n",
       "286440        165030.0                    25983.0                 106047.0   \n",
       "286441        519138.0                    12577.0                 242843.0   \n",
       "286442        218618.0                    17052.0                 201566.0   \n",
       "\n",
       "        other_fixed_assets_0  current_assets_0    stock_0   debtors_0  \\\n",
       "0                     5000.0         1744301.0   269078.0    398247.0   \n",
       "1                   103250.0         5141557.0  2104577.0   2498803.0   \n",
       "2                   131450.0         8107921.0   619529.0   6627795.0   \n",
       "3                  6986000.0        27079000.0  6864000.0   1528000.0   \n",
       "4                  1017182.0         4999136.0    65404.0   3069240.0   \n",
       "...                      ...               ...        ...         ...   \n",
       "286438               29965.0         1722260.0   315809.0   1267688.0   \n",
       "286439             2840274.0        31907100.0   188054.0  10275479.0   \n",
       "286440               33000.0         2843449.0  1566897.0    997684.0   \n",
       "286441              263718.0         7969588.0  4368267.0   3407603.0   \n",
       "286442                   0.0         1449493.0   990441.0    234770.0   \n",
       "\n",
       "        other_current_assets_0  cash_cash_equivalent_0  total_assets_0  ...  \\\n",
       "0                    1076976.0                924514.0       3128339.0  ...   \n",
       "1                     538177.0                 90013.0       8157992.0  ...   \n",
       "2                     860597.0                159140.0       8497940.0  ...   \n",
       "3                   18687000.0               9419000.0     197406000.0  ...   \n",
       "4                    1864492.0                411733.0      12406886.0  ...   \n",
       "...                        ...                     ...             ...  ...   \n",
       "286438                138763.0                102436.0       1920946.0  ...   \n",
       "286439              21443568.0                877234.0      34747376.0  ...   \n",
       "286440                278868.0                  5850.0       3008479.0  ...   \n",
       "286441                193718.0                 10652.0       8488726.0  ...   \n",
       "286442                224282.0                190745.0       1668111.0  ...   \n",
       "\n",
       "        financial_pl_0  pl_before_tax_0  taxation_0  pl_after_tax_0  \\\n",
       "0               1948.0         159880.0     99269.0         60611.0   \n",
       "1            -158914.0         302441.0    225492.0         76949.0   \n",
       "2             -66367.0         568535.0    274065.0        294470.0   \n",
       "3           -1112000.0       -2252000.0    586000.0      -2838000.0   \n",
       "4             -98701.0        -294917.0    130288.0       -425205.0   \n",
       "...                ...              ...         ...             ...   \n",
       "286438          3472.0         -83124.0     23916.0       -107040.0   \n",
       "286439           608.0        2863122.0    351175.0       2511947.0   \n",
       "286440        -44202.0          96074.0     67007.0         29067.0   \n",
       "286441       -374097.0          21173.0     67023.0        -45850.0   \n",
       "286442         16644.0         155073.0     54714.0        100359.0   \n",
       "\n",
       "        pl_for_period_net_income_0  GDP growth  Inflation  interest rate  \\\n",
       "0                          60611.0    1.790640   2.090844       5.621779   \n",
       "1                          75445.0    1.790640   2.090844       5.621779   \n",
       "2                         294470.0    1.790640   2.090844       5.621779   \n",
       "3                       -2662000.0    1.790640   2.090844       5.621779   \n",
       "4                           9214.0    1.790640   2.090844       5.621779   \n",
       "...                            ...         ...        ...            ...   \n",
       "286438                    -63768.0   -0.962013   3.347833       6.837310   \n",
       "286439                   2554006.0   -0.962013   3.347833       6.837310   \n",
       "286440                     29066.0   -0.962013   3.347833       6.837310   \n",
       "286441                    -53105.0   -0.962013   3.347833       6.837310   \n",
       "286442                    100360.0   -0.962013   3.347833       6.837310   \n",
       "\n",
       "        unemployment  pl after tax   \n",
       "0              6.777      -52352.09  \n",
       "1              6.777      -52352.09  \n",
       "2              6.777      -52352.09  \n",
       "3              6.777      -52352.09  \n",
       "4              6.777      -52352.09  \n",
       "...              ...            ...  \n",
       "286438         6.723      -49493.92  \n",
       "286439         6.723      -49493.92  \n",
       "286440         6.723      -49493.92  \n",
       "286441         6.723      -49493.92  \n",
       "286442         6.723      -49493.92  \n",
       "\n",
       "[286443 rows x 35 columns]"
      ]
     },
     "execution_count": 571,
     "metadata": {},
     "output_type": "execute_result"
    }
   ],
   "source": [
    "X"
   ]
  },
  {
   "cell_type": "code",
   "execution_count": 598,
   "metadata": {},
   "outputs": [],
   "source": [
    "from sklearn.model_selection import train_test_split\n",
    "from imblearn.over_sampling import SMOTE\n",
    "import sklearn.pipeline\n",
    "import sklearn\n",
    "import xgboost as xgb"
   ]
  },
  {
   "cell_type": "code",
   "execution_count": 573,
   "metadata": {},
   "outputs": [],
   "source": [
    "X_train, X_test, y_train, y_test = train_test_split(\n",
    "    X, y, test_size=0.2,  random_state=42, stratify=y)"
   ]
  },
  {
   "cell_type": "code",
   "execution_count": 706,
   "metadata": {},
   "outputs": [],
   "source": [
    "smote = SMOTE(sampling_strategy = 0.3, k_neighbors = 5, random_state=42)\n",
    "X_train_resampled, y_train_resampled = smote.fit_resample(X_train, y_train)\n"
   ]
  },
  {
   "cell_type": "code",
   "execution_count": 707,
   "metadata": {},
   "outputs": [],
   "source": [
    "transformer = sklearn.preprocessing.MinMaxScaler()\n",
    "model = xgb.XGBClassifier(objective='binary:logistic',\n",
    "                          n_estimators=200, max_depth=3)"
   ]
  },
  {
   "cell_type": "code",
   "execution_count": 708,
   "metadata": {},
   "outputs": [],
   "source": [
    "pipeline = sklearn.pipeline.Pipeline(\n",
    "    [('transformet', transformer),   ('model', model)])\n",
    "\n",
    "model = pipeline.fit(X_train_resampled, y_train_resampled)"
   ]
  },
  {
   "cell_type": "code",
   "execution_count": 709,
   "metadata": {},
   "outputs": [
    {
     "name": "stdout",
     "output_type": "stream",
     "text": [
      "[[56294   312]\n",
      " [  418   265]]\n"
     ]
    }
   ],
   "source": [
    "predictions = model.predict(X_test)\n",
    "acc = sklearn.metrics.confusion_matrix(y_test, predictions)\n",
    "print(acc)"
   ]
  },
  {
   "cell_type": "code",
   "execution_count": 710,
   "metadata": {},
   "outputs": [
    {
     "name": "stdout",
     "output_type": "stream",
     "text": [
      "0.9872575887168566\n"
     ]
    }
   ],
   "source": [
    "predictions = model.predict(X_test)\n",
    "acc = sklearn.metrics.accuracy_score(y_test, predictions)\n",
    "print(acc)"
   ]
  },
  {
   "cell_type": "code",
   "execution_count": 620,
   "metadata": {},
   "outputs": [
    {
     "data": {
      "text/plain": [
       "0.9880744162014782"
      ]
     },
     "execution_count": 620,
     "metadata": {},
     "output_type": "execute_result"
    }
   ],
   "source": [
    "(1 - sum(y)/len(y))"
   ]
  },
  {
   "cell_type": "code",
   "execution_count": 583,
   "metadata": {},
   "outputs": [
    {
     "data": {
      "text/plain": [
       "0.10105815138066188"
      ]
     },
     "execution_count": 583,
     "metadata": {},
     "output_type": "execute_result"
    }
   ],
   "source": [
    "(acc/(1 - sum(y)/len(y)) - 1)*100\n"
   ]
  },
  {
   "cell_type": "code",
   "execution_count": null,
   "metadata": {},
   "outputs": [],
   "source": []
  }
 ],
 "metadata": {
  "kernelspec": {
   "display_name": "base",
   "language": "python",
   "name": "python3"
  },
  "language_info": {
   "codemirror_mode": {
    "name": "ipython",
    "version": 3
   },
   "file_extension": ".py",
   "mimetype": "text/x-python",
   "name": "python",
   "nbconvert_exporter": "python",
   "pygments_lexer": "ipython3",
   "version": "3.10.9"
  }
 },
 "nbformat": 4,
 "nbformat_minor": 2
}
