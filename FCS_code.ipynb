{
 "cells": [
  {
   "cell_type": "code",
   "execution_count": 1,
   "metadata": {},
   "outputs": [],
   "source": [
    "import pandas as pd\n",
    "import numpy  as np\n",
    "import seaborn as sns\n",
    "import matplotlib.pyplot as plt"
   ]
  },
  {
   "cell_type": "code",
   "execution_count": 2,
   "metadata": {},
   "outputs": [],
   "source": [
    "df = pd.read_pickle('Erasmus_data_stresstesting_2024.pickle')"
   ]
  },
  {
   "cell_type": "code",
   "execution_count": 3,
   "metadata": {},
   "outputs": [],
   "source": [
    "df.iloc[1:20, :].to_csv('df_snapshot.csv')"
   ]
  },
  {
   "cell_type": "code",
   "execution_count": 16,
   "metadata": {},
   "outputs": [
    {
     "data": {
      "text/plain": [
       "0.0050195203569436695"
      ]
     },
     "execution_count": 16,
     "metadata": {},
     "output_type": "execute_result"
    }
   ],
   "source": [
    "9/1793"
   ]
  },
  {
   "cell_type": "code",
   "execution_count": 55,
   "metadata": {},
   "outputs": [
    {
     "name": "stdout",
     "output_type": "stream",
     "text": [
      "0\n",
      "3\n",
      "13\n",
      "6\n",
      "14\n",
      "16\n",
      "24\n",
      "34\n",
      "29\n",
      "73\n",
      "100\n",
      "939\n",
      "1378\n",
      "1364\n",
      "1325\n",
      "1412\n",
      "1644\n",
      "1382\n",
      "1202\n",
      "1308\n",
      "825\n",
      "695\n"
     ]
    }
   ],
   "source": [
    "for i in range(2000, 2022):\n",
    "    print(df.loc[df['status_year']==i]['default_indicator'].sum())\n"
   ]
  },
  {
   "cell_type": "code",
   "execution_count": 54,
   "metadata": {},
   "outputs": [
    {
     "data": {
      "text/plain": [
       "0"
      ]
     },
     "execution_count": 54,
     "metadata": {},
     "output_type": "execute_result"
    }
   ],
   "source": [
    "df.loc[df['status_year']==2000]['default_indicator'].sum()"
   ]
  },
  {
   "cell_type": "code",
   "execution_count": 51,
   "metadata": {},
   "outputs": [
    {
     "data": {
      "text/html": [
       "<div>\n",
       "<style scoped>\n",
       "    .dataframe tbody tr th:only-of-type {\n",
       "        vertical-align: middle;\n",
       "    }\n",
       "\n",
       "    .dataframe tbody tr th {\n",
       "        vertical-align: top;\n",
       "    }\n",
       "\n",
       "    .dataframe thead th {\n",
       "        text-align: right;\n",
       "    }\n",
       "</style>\n",
       "<table border=\"1\" class=\"dataframe\">\n",
       "  <thead>\n",
       "    <tr style=\"text-align: right;\">\n",
       "      <th></th>\n",
       "      <th>index</th>\n",
       "      <th>bvd_id_number</th>\n",
       "      <th>country_code</th>\n",
       "      <th>industry_code</th>\n",
       "      <th>size_class</th>\n",
       "      <th>status_year</th>\n",
       "      <th>status_date_latest</th>\n",
       "      <th>status_latest</th>\n",
       "      <th>default_indicator</th>\n",
       "      <th>fixed_assets_0</th>\n",
       "      <th>...</th>\n",
       "      <th>cash_flow_2</th>\n",
       "      <th>cash_flow_3</th>\n",
       "      <th>added_value_0</th>\n",
       "      <th>added_value_1</th>\n",
       "      <th>added_value_2</th>\n",
       "      <th>added_value_3</th>\n",
       "      <th>ebitda_0</th>\n",
       "      <th>ebitda_1</th>\n",
       "      <th>ebitda_2</th>\n",
       "      <th>ebitda_3</th>\n",
       "    </tr>\n",
       "  </thead>\n",
       "  <tbody>\n",
       "    <tr>\n",
       "      <th>9</th>\n",
       "      <td>7000375</td>\n",
       "      <td>IT00174710145</td>\n",
       "      <td>IT</td>\n",
       "      <td>C</td>\n",
       "      <td>SME</td>\n",
       "      <td>2006</td>\n",
       "      <td>16991231</td>\n",
       "      <td>non_default</td>\n",
       "      <td>0</td>\n",
       "      <td>1384038.0</td>\n",
       "      <td>...</td>\n",
       "      <td>263278.0</td>\n",
       "      <td>286875.0</td>\n",
       "      <td>814785.0</td>\n",
       "      <td>834961.0</td>\n",
       "      <td>832154.0</td>\n",
       "      <td>767041.0</td>\n",
       "      <td>294436.0</td>\n",
       "      <td>323697.0</td>\n",
       "      <td>363494.0</td>\n",
       "      <td>313583.0</td>\n",
       "    </tr>\n",
       "    <tr>\n",
       "      <th>10</th>\n",
       "      <td>7000376</td>\n",
       "      <td>IT00174710145</td>\n",
       "      <td>IT</td>\n",
       "      <td>C</td>\n",
       "      <td>SME</td>\n",
       "      <td>2005</td>\n",
       "      <td>16991231</td>\n",
       "      <td>non_default</td>\n",
       "      <td>0</td>\n",
       "      <td>1067546.0</td>\n",
       "      <td>...</td>\n",
       "      <td>286875.0</td>\n",
       "      <td>291243.0</td>\n",
       "      <td>834961.0</td>\n",
       "      <td>832154.0</td>\n",
       "      <td>767041.0</td>\n",
       "      <td>746729.0</td>\n",
       "      <td>323697.0</td>\n",
       "      <td>363494.0</td>\n",
       "      <td>313583.0</td>\n",
       "      <td>304113.0</td>\n",
       "    </tr>\n",
       "    <tr>\n",
       "      <th>15</th>\n",
       "      <td>7003156</td>\n",
       "      <td>SE5564586948</td>\n",
       "      <td>SE</td>\n",
       "      <td>C</td>\n",
       "      <td>SME</td>\n",
       "      <td>2012</td>\n",
       "      <td>16991231</td>\n",
       "      <td>non_default</td>\n",
       "      <td>0</td>\n",
       "      <td>3341981.0</td>\n",
       "      <td>...</td>\n",
       "      <td>-923462.0</td>\n",
       "      <td>495902.0</td>\n",
       "      <td>1768811.0</td>\n",
       "      <td>2787704.0</td>\n",
       "      <td>2495711.0</td>\n",
       "      <td>NaN</td>\n",
       "      <td>-635397.0</td>\n",
       "      <td>385997.0</td>\n",
       "      <td>-879095.0</td>\n",
       "      <td>514532.0</td>\n",
       "    </tr>\n",
       "    <tr>\n",
       "      <th>18</th>\n",
       "      <td>7000109</td>\n",
       "      <td>UA24658276</td>\n",
       "      <td>UA</td>\n",
       "      <td>C</td>\n",
       "      <td>SME</td>\n",
       "      <td>2009</td>\n",
       "      <td>16991231</td>\n",
       "      <td>non_default</td>\n",
       "      <td>0</td>\n",
       "      <td>5636087.0</td>\n",
       "      <td>...</td>\n",
       "      <td>520493.0</td>\n",
       "      <td>-339445.0</td>\n",
       "      <td>NaN</td>\n",
       "      <td>NaN</td>\n",
       "      <td>2223147.0</td>\n",
       "      <td>1741338.0</td>\n",
       "      <td>-628173.0</td>\n",
       "      <td>248225.0</td>\n",
       "      <td>647193.0</td>\n",
       "      <td>-153213.0</td>\n",
       "    </tr>\n",
       "    <tr>\n",
       "      <th>25</th>\n",
       "      <td>7003043</td>\n",
       "      <td>IT02421270162</td>\n",
       "      <td>IT</td>\n",
       "      <td>C</td>\n",
       "      <td>SME</td>\n",
       "      <td>2019</td>\n",
       "      <td>16991231</td>\n",
       "      <td>non_default</td>\n",
       "      <td>0</td>\n",
       "      <td>4437739.0</td>\n",
       "      <td>...</td>\n",
       "      <td>233084.0</td>\n",
       "      <td>263087.0</td>\n",
       "      <td>2116978.0</td>\n",
       "      <td>1907583.0</td>\n",
       "      <td>1592715.0</td>\n",
       "      <td>1343782.0</td>\n",
       "      <td>692973.0</td>\n",
       "      <td>425306.0</td>\n",
       "      <td>387752.0</td>\n",
       "      <td>348976.0</td>\n",
       "    </tr>\n",
       "    <tr>\n",
       "      <th>...</th>\n",
       "      <td>...</td>\n",
       "      <td>...</td>\n",
       "      <td>...</td>\n",
       "      <td>...</td>\n",
       "      <td>...</td>\n",
       "      <td>...</td>\n",
       "      <td>...</td>\n",
       "      <td>...</td>\n",
       "      <td>...</td>\n",
       "      <td>...</td>\n",
       "      <td>...</td>\n",
       "      <td>...</td>\n",
       "      <td>...</td>\n",
       "      <td>...</td>\n",
       "      <td>...</td>\n",
       "      <td>...</td>\n",
       "      <td>...</td>\n",
       "      <td>...</td>\n",
       "      <td>...</td>\n",
       "      <td>...</td>\n",
       "      <td>...</td>\n",
       "    </tr>\n",
       "    <tr>\n",
       "      <th>1526929</th>\n",
       "      <td>331533936</td>\n",
       "      <td>GB00150911</td>\n",
       "      <td>GB</td>\n",
       "      <td>C</td>\n",
       "      <td>SME</td>\n",
       "      <td>2006</td>\n",
       "      <td>16991231</td>\n",
       "      <td>non_default</td>\n",
       "      <td>0</td>\n",
       "      <td>1225509.0</td>\n",
       "      <td>...</td>\n",
       "      <td>242615.0</td>\n",
       "      <td>298971.0</td>\n",
       "      <td>2517778.0</td>\n",
       "      <td>2554823.0</td>\n",
       "      <td>2670289.0</td>\n",
       "      <td>NaN</td>\n",
       "      <td>49648.0</td>\n",
       "      <td>350668.0</td>\n",
       "      <td>331206.0</td>\n",
       "      <td>396213.0</td>\n",
       "    </tr>\n",
       "    <tr>\n",
       "      <th>1526934</th>\n",
       "      <td>395339735</td>\n",
       "      <td>DE6110032026</td>\n",
       "      <td>DE</td>\n",
       "      <td>C</td>\n",
       "      <td>SME</td>\n",
       "      <td>2019</td>\n",
       "      <td>16991231</td>\n",
       "      <td>non_default</td>\n",
       "      <td>0</td>\n",
       "      <td>120224.0</td>\n",
       "      <td>...</td>\n",
       "      <td>NaN</td>\n",
       "      <td>NaN</td>\n",
       "      <td>NaN</td>\n",
       "      <td>NaN</td>\n",
       "      <td>NaN</td>\n",
       "      <td>NaN</td>\n",
       "      <td>NaN</td>\n",
       "      <td>NaN</td>\n",
       "      <td>NaN</td>\n",
       "      <td>NaN</td>\n",
       "    </tr>\n",
       "    <tr>\n",
       "      <th>1526935</th>\n",
       "      <td>395365784</td>\n",
       "      <td>DE6090005259</td>\n",
       "      <td>DE</td>\n",
       "      <td>C</td>\n",
       "      <td>SME</td>\n",
       "      <td>2020</td>\n",
       "      <td>16991231</td>\n",
       "      <td>non_default</td>\n",
       "      <td>0</td>\n",
       "      <td>2436483.0</td>\n",
       "      <td>...</td>\n",
       "      <td>NaN</td>\n",
       "      <td>NaN</td>\n",
       "      <td>NaN</td>\n",
       "      <td>NaN</td>\n",
       "      <td>NaN</td>\n",
       "      <td>NaN</td>\n",
       "      <td>NaN</td>\n",
       "      <td>NaN</td>\n",
       "      <td>NaN</td>\n",
       "      <td>NaN</td>\n",
       "    </tr>\n",
       "    <tr>\n",
       "      <th>1526955</th>\n",
       "      <td>395389228</td>\n",
       "      <td>DE6090070444</td>\n",
       "      <td>DE</td>\n",
       "      <td>C</td>\n",
       "      <td>SME</td>\n",
       "      <td>2019</td>\n",
       "      <td>16991231</td>\n",
       "      <td>non_default</td>\n",
       "      <td>0</td>\n",
       "      <td>1836948.0</td>\n",
       "      <td>...</td>\n",
       "      <td>NaN</td>\n",
       "      <td>NaN</td>\n",
       "      <td>NaN</td>\n",
       "      <td>NaN</td>\n",
       "      <td>NaN</td>\n",
       "      <td>NaN</td>\n",
       "      <td>NaN</td>\n",
       "      <td>NaN</td>\n",
       "      <td>NaN</td>\n",
       "      <td>NaN</td>\n",
       "    </tr>\n",
       "    <tr>\n",
       "      <th>1526960</th>\n",
       "      <td>341835294</td>\n",
       "      <td>RU40529130</td>\n",
       "      <td>RU</td>\n",
       "      <td>C</td>\n",
       "      <td>SME</td>\n",
       "      <td>2011</td>\n",
       "      <td>16991231</td>\n",
       "      <td>non_default</td>\n",
       "      <td>0</td>\n",
       "      <td>34792920.0</td>\n",
       "      <td>...</td>\n",
       "      <td>NaN</td>\n",
       "      <td>NaN</td>\n",
       "      <td>NaN</td>\n",
       "      <td>NaN</td>\n",
       "      <td>NaN</td>\n",
       "      <td>NaN</td>\n",
       "      <td>NaN</td>\n",
       "      <td>NaN</td>\n",
       "      <td>NaN</td>\n",
       "      <td>NaN</td>\n",
       "    </tr>\n",
       "  </tbody>\n",
       "</table>\n",
       "<p>318958 rows × 213 columns</p>\n",
       "</div>"
      ],
      "text/plain": [
       "             index  bvd_id_number country_code industry_code size_class  \\\n",
       "9          7000375  IT00174710145           IT             C        SME   \n",
       "10         7000376  IT00174710145           IT             C        SME   \n",
       "15         7003156   SE5564586948           SE             C        SME   \n",
       "18         7000109     UA24658276           UA             C        SME   \n",
       "25         7003043  IT02421270162           IT             C        SME   \n",
       "...            ...            ...          ...           ...        ...   \n",
       "1526929  331533936     GB00150911           GB             C        SME   \n",
       "1526934  395339735   DE6110032026           DE             C        SME   \n",
       "1526935  395365784   DE6090005259           DE             C        SME   \n",
       "1526955  395389228   DE6090070444           DE             C        SME   \n",
       "1526960  341835294     RU40529130           RU             C        SME   \n",
       "\n",
       "         status_year  status_date_latest status_latest  default_indicator  \\\n",
       "9               2006            16991231   non_default                  0   \n",
       "10              2005            16991231   non_default                  0   \n",
       "15              2012            16991231   non_default                  0   \n",
       "18              2009            16991231   non_default                  0   \n",
       "25              2019            16991231   non_default                  0   \n",
       "...              ...                 ...           ...                ...   \n",
       "1526929         2006            16991231   non_default                  0   \n",
       "1526934         2019            16991231   non_default                  0   \n",
       "1526935         2020            16991231   non_default                  0   \n",
       "1526955         2019            16991231   non_default                  0   \n",
       "1526960         2011            16991231   non_default                  0   \n",
       "\n",
       "         fixed_assets_0  ...  cash_flow_2  cash_flow_3  added_value_0  \\\n",
       "9             1384038.0  ...     263278.0     286875.0       814785.0   \n",
       "10            1067546.0  ...     286875.0     291243.0       834961.0   \n",
       "15            3341981.0  ...    -923462.0     495902.0      1768811.0   \n",
       "18            5636087.0  ...     520493.0    -339445.0            NaN   \n",
       "25            4437739.0  ...     233084.0     263087.0      2116978.0   \n",
       "...                 ...  ...          ...          ...            ...   \n",
       "1526929       1225509.0  ...     242615.0     298971.0      2517778.0   \n",
       "1526934        120224.0  ...          NaN          NaN            NaN   \n",
       "1526935       2436483.0  ...          NaN          NaN            NaN   \n",
       "1526955       1836948.0  ...          NaN          NaN            NaN   \n",
       "1526960      34792920.0  ...          NaN          NaN            NaN   \n",
       "\n",
       "         added_value_1  added_value_2  added_value_3  ebitda_0  ebitda_1  \\\n",
       "9             834961.0       832154.0       767041.0  294436.0  323697.0   \n",
       "10            832154.0       767041.0       746729.0  323697.0  363494.0   \n",
       "15           2787704.0      2495711.0            NaN -635397.0  385997.0   \n",
       "18                 NaN      2223147.0      1741338.0 -628173.0  248225.0   \n",
       "25           1907583.0      1592715.0      1343782.0  692973.0  425306.0   \n",
       "...                ...            ...            ...       ...       ...   \n",
       "1526929      2554823.0      2670289.0            NaN   49648.0  350668.0   \n",
       "1526934            NaN            NaN            NaN       NaN       NaN   \n",
       "1526935            NaN            NaN            NaN       NaN       NaN   \n",
       "1526955            NaN            NaN            NaN       NaN       NaN   \n",
       "1526960            NaN            NaN            NaN       NaN       NaN   \n",
       "\n",
       "         ebitda_2  ebitda_3  \n",
       "9        363494.0  313583.0  \n",
       "10       313583.0  304113.0  \n",
       "15      -879095.0  514532.0  \n",
       "18       647193.0 -153213.0  \n",
       "25       387752.0  348976.0  \n",
       "...           ...       ...  \n",
       "1526929  331206.0  396213.0  \n",
       "1526934       NaN       NaN  \n",
       "1526935       NaN       NaN  \n",
       "1526955       NaN       NaN  \n",
       "1526960       NaN       NaN  \n",
       "\n",
       "[318958 rows x 213 columns]"
      ]
     },
     "execution_count": 51,
     "metadata": {},
     "output_type": "execute_result"
    }
   ],
   "source": [
    "df.loc[df['industry_code']== 'C']"
   ]
  },
  {
   "cell_type": "code",
   "execution_count": 92,
   "metadata": {},
   "outputs": [
    {
     "data": {
      "text/plain": [
       "380054"
      ]
     },
     "execution_count": 92,
     "metadata": {},
     "output_type": "execute_result"
    }
   ],
   "source": [
    "len(df.loc[:, l].dropna()['bvd_id_number'].unique())"
   ]
  },
  {
   "cell_type": "code",
   "execution_count": 97,
   "metadata": {},
   "outputs": [
    {
     "data": {
      "text/html": [
       "<div>\n",
       "<style scoped>\n",
       "    .dataframe tbody tr th:only-of-type {\n",
       "        vertical-align: middle;\n",
       "    }\n",
       "\n",
       "    .dataframe tbody tr th {\n",
       "        vertical-align: top;\n",
       "    }\n",
       "\n",
       "    .dataframe thead th {\n",
       "        text-align: right;\n",
       "    }\n",
       "</style>\n",
       "<table border=\"1\" class=\"dataframe\">\n",
       "  <thead>\n",
       "    <tr style=\"text-align: right;\">\n",
       "      <th></th>\n",
       "      <th>index</th>\n",
       "      <th>bvd_id_number</th>\n",
       "      <th>country_code</th>\n",
       "      <th>industry_code</th>\n",
       "      <th>size_class</th>\n",
       "      <th>status_year</th>\n",
       "      <th>status_date_latest</th>\n",
       "      <th>status_latest</th>\n",
       "      <th>default_indicator</th>\n",
       "      <th>fixed_assets_0</th>\n",
       "      <th>...</th>\n",
       "      <th>total_shareh_funds_liab_0</th>\n",
       "      <th>working_capital_0</th>\n",
       "      <th>operating_revenue_0</th>\n",
       "      <th>operating_pl_ebit_0</th>\n",
       "      <th>financial_expenses_0</th>\n",
       "      <th>financial_pl_0</th>\n",
       "      <th>pl_before_tax_0</th>\n",
       "      <th>taxation_0</th>\n",
       "      <th>pl_after_tax_0</th>\n",
       "      <th>pl_for_period_net_income_0</th>\n",
       "    </tr>\n",
       "  </thead>\n",
       "  <tbody>\n",
       "    <tr>\n",
       "      <th>15</th>\n",
       "      <td>7003156</td>\n",
       "      <td>SE5564586948</td>\n",
       "      <td>SE</td>\n",
       "      <td>C</td>\n",
       "      <td>SME</td>\n",
       "      <td>2012</td>\n",
       "      <td>16991231</td>\n",
       "      <td>non_default</td>\n",
       "      <td>0</td>\n",
       "      <td>3341981.0</td>\n",
       "      <td>...</td>\n",
       "      <td>7080487.0</td>\n",
       "      <td>1938584.0</td>\n",
       "      <td>9279848.0</td>\n",
       "      <td>-957465.0</td>\n",
       "      <td>68166.0</td>\n",
       "      <td>-40433.0</td>\n",
       "      <td>-997898.0</td>\n",
       "      <td>-38802.0</td>\n",
       "      <td>-959096.0</td>\n",
       "      <td>-959096.0</td>\n",
       "    </tr>\n",
       "    <tr>\n",
       "      <th>284</th>\n",
       "      <td>7003165</td>\n",
       "      <td>SE5564586948</td>\n",
       "      <td>SE</td>\n",
       "      <td>C</td>\n",
       "      <td>SME</td>\n",
       "      <td>2003</td>\n",
       "      <td>16991231</td>\n",
       "      <td>non_default</td>\n",
       "      <td>0</td>\n",
       "      <td>1173887.0</td>\n",
       "      <td>...</td>\n",
       "      <td>6012010.0</td>\n",
       "      <td>1558617.0</td>\n",
       "      <td>9083424.0</td>\n",
       "      <td>-595542.0</td>\n",
       "      <td>55832.0</td>\n",
       "      <td>-49084.0</td>\n",
       "      <td>-644626.0</td>\n",
       "      <td>-15237.0</td>\n",
       "      <td>-629389.0</td>\n",
       "      <td>-629389.0</td>\n",
       "    </tr>\n",
       "    <tr>\n",
       "      <th>1889</th>\n",
       "      <td>7003163</td>\n",
       "      <td>SE5564586948</td>\n",
       "      <td>SE</td>\n",
       "      <td>C</td>\n",
       "      <td>SME</td>\n",
       "      <td>2005</td>\n",
       "      <td>16991231</td>\n",
       "      <td>non_default</td>\n",
       "      <td>0</td>\n",
       "      <td>1632412.0</td>\n",
       "      <td>...</td>\n",
       "      <td>7080959.0</td>\n",
       "      <td>2373527.0</td>\n",
       "      <td>9265640.0</td>\n",
       "      <td>-4261.0</td>\n",
       "      <td>56878.0</td>\n",
       "      <td>-8095.0</td>\n",
       "      <td>-12355.0</td>\n",
       "      <td>-143473.0</td>\n",
       "      <td>131117.0</td>\n",
       "      <td>131117.0</td>\n",
       "    </tr>\n",
       "    <tr>\n",
       "      <th>1894</th>\n",
       "      <td>7003155</td>\n",
       "      <td>SE5564586948</td>\n",
       "      <td>SE</td>\n",
       "      <td>C</td>\n",
       "      <td>SME</td>\n",
       "      <td>2013</td>\n",
       "      <td>16991231</td>\n",
       "      <td>non_default</td>\n",
       "      <td>0</td>\n",
       "      <td>4042979.0</td>\n",
       "      <td>...</td>\n",
       "      <td>9008629.0</td>\n",
       "      <td>2511553.0</td>\n",
       "      <td>7569650.0</td>\n",
       "      <td>-3793065.0</td>\n",
       "      <td>79015.0</td>\n",
       "      <td>-19302.0</td>\n",
       "      <td>-3812368.0</td>\n",
       "      <td>-202505.0</td>\n",
       "      <td>-3609863.0</td>\n",
       "      <td>-3609863.0</td>\n",
       "    </tr>\n",
       "  </tbody>\n",
       "</table>\n",
       "<p>4 rows × 39 columns</p>\n",
       "</div>"
      ],
      "text/plain": [
       "        index bvd_id_number country_code industry_code size_class  \\\n",
       "15    7003156  SE5564586948           SE             C        SME   \n",
       "284   7003165  SE5564586948           SE             C        SME   \n",
       "1889  7003163  SE5564586948           SE             C        SME   \n",
       "1894  7003155  SE5564586948           SE             C        SME   \n",
       "\n",
       "      status_year  status_date_latest status_latest  default_indicator  \\\n",
       "15           2012            16991231   non_default                  0   \n",
       "284          2003            16991231   non_default                  0   \n",
       "1889         2005            16991231   non_default                  0   \n",
       "1894         2013            16991231   non_default                  0   \n",
       "\n",
       "      fixed_assets_0  ...  total_shareh_funds_liab_0  working_capital_0  \\\n",
       "15         3341981.0  ...                  7080487.0          1938584.0   \n",
       "284        1173887.0  ...                  6012010.0          1558617.0   \n",
       "1889       1632412.0  ...                  7080959.0          2373527.0   \n",
       "1894       4042979.0  ...                  9008629.0          2511553.0   \n",
       "\n",
       "      operating_revenue_0  operating_pl_ebit_0  financial_expenses_0  \\\n",
       "15              9279848.0            -957465.0               68166.0   \n",
       "284             9083424.0            -595542.0               55832.0   \n",
       "1889            9265640.0              -4261.0               56878.0   \n",
       "1894            7569650.0           -3793065.0               79015.0   \n",
       "\n",
       "      financial_pl_0  pl_before_tax_0  taxation_0  pl_after_tax_0  \\\n",
       "15          -40433.0        -997898.0    -38802.0       -959096.0   \n",
       "284         -49084.0        -644626.0    -15237.0       -629389.0   \n",
       "1889         -8095.0         -12355.0   -143473.0        131117.0   \n",
       "1894        -19302.0       -3812368.0   -202505.0      -3609863.0   \n",
       "\n",
       "      pl_for_period_net_income_0  \n",
       "15                     -959096.0  \n",
       "284                    -629389.0  \n",
       "1889                    131117.0  \n",
       "1894                  -3609863.0  \n",
       "\n",
       "[4 rows x 39 columns]"
      ]
     },
     "execution_count": 97,
     "metadata": {},
     "output_type": "execute_result"
    }
   ],
   "source": [
    "df.loc[:, l].dropna().loc[df.loc[:, l].dropna()['bvd_id_number']=='SE5564586948']"
   ]
  },
  {
   "cell_type": "code",
   "execution_count": 99,
   "metadata": {},
   "outputs": [
    {
     "data": {
      "text/plain": [
       "9873"
      ]
     },
     "execution_count": 99,
     "metadata": {},
     "output_type": "execute_result"
    }
   ],
   "source": [
    "df.loc[:, l].dropna()['default_indicator'].sum()"
   ]
  },
  {
   "cell_type": "code",
   "execution_count": 107,
   "metadata": {},
   "outputs": [
    {
     "data": {
      "text/plain": [
       "380054"
      ]
     },
     "execution_count": 107,
     "metadata": {},
     "output_type": "execute_result"
    }
   ],
   "source": [
    "len(df.loc[:, l].dropna()['bvd_id_number'].unique())"
   ]
  },
  {
   "cell_type": "code",
   "execution_count": 108,
   "metadata": {},
   "outputs": [
    {
     "data": {
      "text/plain": [
       "0.02597788735284986"
      ]
     },
     "execution_count": 108,
     "metadata": {},
     "output_type": "execute_result"
    }
   ],
   "source": [
    "9873/380054"
   ]
  },
  {
   "cell_type": "code",
   "execution_count": 102,
   "metadata": {},
   "outputs": [
    {
     "data": {
      "text/plain": [
       "0.009715654967796535"
      ]
     },
     "execution_count": 102,
     "metadata": {},
     "output_type": "execute_result"
    }
   ],
   "source": [
    "9873/df.loc[:, l].dropna().shape[0]\n"
   ]
  },
  {
   "cell_type": "code",
   "execution_count": 104,
   "metadata": {},
   "outputs": [
    {
     "data": {
      "text/plain": [
       "0.009292864730205675"
      ]
     },
     "execution_count": 104,
     "metadata": {},
     "output_type": "execute_result"
    }
   ],
   "source": [
    "df['default_indicator'].sum()/df['default_indicator'].shape[0]"
   ]
  },
  {
   "cell_type": "code",
   "execution_count": 89,
   "metadata": {},
   "outputs": [
    {
     "name": "stdout",
     "output_type": "stream",
     "text": [
      "['index', 'bvd_id_number', 'country_code', 'industry_code', 'size_class', 'status_year', 'status_date_latest', 'status_latest', 'default_indicator', 'fixed_assets_0', 'intangible_fixed_assets_0', 'tangible_fixed_assets_0', 'other_fixed_assets_0', 'current_assets_0', 'stock_0', 'debtors_0', 'other_current_assets_0', 'cash_cash_equivalent_0', 'total_assets_0', 'shareholders_funds_0', 'capital_0', 'other_shareholders_funds_0', 'noncurrent_liabilities_0', 'long_term_debt_0', 'other_noncurrent_liabilities_0', 'current_liabilities_0', 'loans_0', 'creditors_0', 'other_current_liabilities_0', 'total_shareh_funds_liab_0', 'working_capital_0', 'operating_revenue_0', 'operating_pl_ebit_0', 'financial_expenses_0', 'financial_pl_0', 'pl_before_tax_0', 'taxation_0', 'pl_after_tax_0', 'pl_for_period_net_income_0']\n"
     ]
    }
   ],
   "source": [
    "print(df.loc[:, l].dropna().columns.tolist())"
   ]
  },
  {
   "cell_type": "code",
   "execution_count": 82,
   "metadata": {},
   "outputs": [],
   "source": [
    "l = []\n",
    "x = [df.isna().sum() < 200000]\n",
    "for i in range(len([df.isna().sum() < 200000][0])):\n",
    "    l.append(x[0][i])"
   ]
  },
  {
   "cell_type": "code",
   "execution_count": 76,
   "metadata": {},
   "outputs": [
    {
     "data": {
      "text/plain": [
       "213"
      ]
     },
     "execution_count": 76,
     "metadata": {},
     "output_type": "execute_result"
    }
   ],
   "source": [
    "len([df.isna().sum() < 200000][0])\n"
   ]
  },
  {
   "cell_type": "code",
   "execution_count": null,
   "metadata": {},
   "outputs": [],
   "source": []
  },
  {
   "cell_type": "code",
   "execution_count": 96,
   "metadata": {},
   "outputs": [
    {
     "data": {
      "text/plain": [
       "array(['non_default'], dtype=object)"
      ]
     },
     "execution_count": 96,
     "metadata": {},
     "output_type": "execute_result"
    }
   ],
   "source": [
    "df['status_latest'].unique()"
   ]
  },
  {
   "cell_type": "code",
   "execution_count": 72,
   "metadata": {},
   "outputs": [
    {
     "data": {
      "text/plain": [
       "True"
      ]
     },
     "execution_count": 72,
     "metadata": {},
     "output_type": "execute_result"
    }
   ],
   "source": [
    "[df.isna().sum() < 200000][0][0]"
   ]
  },
  {
   "cell_type": "code",
   "execution_count": 113,
   "metadata": {},
   "outputs": [
    {
     "data": {
      "text/plain": [
       "array(['G', 'F', 'A', 'N', 'GX', 'C', 'D', 'J', 'M', 'K', 'H', 'L', 'Q',\n",
       "       'P', 'S', 'B', 'E', 'I', 'R'], dtype=object)"
      ]
     },
     "execution_count": 113,
     "metadata": {},
     "output_type": "execute_result"
    }
   ],
   "source": [
    "df['industry_code'].unique()"
   ]
  },
  {
   "cell_type": "code",
   "execution_count": 37,
   "metadata": {},
   "outputs": [
    {
     "data": {
      "text/plain": [
       "556866"
      ]
     },
     "execution_count": 37,
     "metadata": {},
     "output_type": "execute_result"
    }
   ],
   "source": [
    "len(df['bvd_id_number'].unique())"
   ]
  },
  {
   "cell_type": "code",
   "execution_count": 29,
   "metadata": {},
   "outputs": [
    {
     "data": {
      "text/plain": [
       "0.009292864730205675"
      ]
     },
     "execution_count": 29,
     "metadata": {},
     "output_type": "execute_result"
    }
   ],
   "source": [
    "df['default_indicator'].sum()/df.shape[0]"
   ]
  },
  {
   "cell_type": "code",
   "execution_count": 7,
   "metadata": {},
   "outputs": [
    {
     "data": {
      "text/plain": [
       "array(['non_default'], dtype=object)"
      ]
     },
     "execution_count": 7,
     "metadata": {},
     "output_type": "execute_result"
    }
   ],
   "source": [
    "df['status_latest'].unique()"
   ]
  },
  {
   "cell_type": "code",
   "execution_count": 110,
   "metadata": {},
   "outputs": [
    {
     "data": {
      "text/plain": [
       "array(['DE', 'RU', 'ES', 'IT', 'PL', 'SE', 'UA', 'NO', 'NL', 'CO', 'GB',\n",
       "       'BG', 'HR', 'RO', 'LT', 'CZ', 'PT', 'HU', 'FI', 'SK', 'SI', 'DK',\n",
       "       'RS', 'AT', 'AU', 'US', 'IS', 'BE', 'KZ', 'BY', 'AM', 'GE', 'MU',\n",
       "       'MD', 'LV'], dtype=object)"
      ]
     },
     "execution_count": 110,
     "metadata": {},
     "output_type": "execute_result"
    }
   ],
   "source": [
    "df['country_code'].unique()"
   ]
  },
  {
   "cell_type": "code",
   "execution_count": 9,
   "metadata": {},
   "outputs": [
    {
     "data": {
      "text/plain": [
       "array([2020, 2011, 2013, 2014, 2021, 2016, 2015, 2006, 2005, 2019, 2017,\n",
       "       2012, 2018, 2009, 2008, 2010, 2007, 2003, 2022, 2004, 2002, 2001,\n",
       "       2000], dtype=int32)"
      ]
     },
     "execution_count": 9,
     "metadata": {},
     "output_type": "execute_result"
    }
   ],
   "source": [
    "df['status_year'].unique()"
   ]
  },
  {
   "cell_type": "code",
   "execution_count": null,
   "metadata": {},
   "outputs": [],
   "source": []
  }
 ],
 "metadata": {
  "kernelspec": {
   "display_name": "base",
   "language": "python",
   "name": "python3"
  },
  "language_info": {
   "codemirror_mode": {
    "name": "ipython",
    "version": 3
   },
   "file_extension": ".py",
   "mimetype": "text/x-python",
   "name": "python",
   "nbconvert_exporter": "python",
   "pygments_lexer": "ipython3",
   "version": "3.10.9"
  }
 },
 "nbformat": 4,
 "nbformat_minor": 2
}
