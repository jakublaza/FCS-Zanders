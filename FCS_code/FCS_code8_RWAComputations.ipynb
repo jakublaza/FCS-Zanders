{
 "cells": [
  {
   "cell_type": "markdown",
   "metadata": {},
   "source": [
    "# 5. RWA"
   ]
  },
  {
   "cell_type": "markdown",
   "metadata": {},
   "source": [
    "This notebook contains the computations of RWA"
   ]
  },
  {
   "cell_type": "code",
   "execution_count": 2,
   "metadata": {},
   "outputs": [],
   "source": [
    "import numpy as np\n",
    "from utils import load_statistical_clusters, RWA"
   ]
  },
  {
   "cell_type": "code",
   "execution_count": 3,
   "metadata": {},
   "outputs": [],
   "source": [
    "# Assuming...\n",
    "\n",
    "LGD = 0.25\n",
    "K = 1"
   ]
  },
  {
   "cell_type": "code",
   "execution_count": 4,
   "metadata": {},
   "outputs": [],
   "source": [
    "adverse_dynamic = [0.0379, 0.0183, 0.0202, 0.0, 0.00, 0.0034, 0.0082, 0.0, 0.00, 0.0014]\n",
    "adverse_static = [0.0292, 0.0163, 0.0124, 0, 0, 0.0022, 0.0055, 0.0001, 0.0056, 0]\n",
    "base_static = [0.0202, 0.0031, 0.0037, 0, 0, 0.0014, 0.0006, 0, 0, 0.0002]\n",
    "reverse_stress_test = [0.0293, 0.0183, 0.0161, 0, 0.0019, 0.0087, 0.0056, 0.0001, 0.0077, 0.0024]"
   ]
  },
  {
   "cell_type": "code",
   "execution_count": 5,
   "metadata": {},
   "outputs": [
    {
     "name": "stdout",
     "output_type": "stream",
     "text": [
      "Cluster 0.0379: 0.35\n",
      "Cluster 0.0183: 0.21\n",
      "Cluster 0.0202: 0.22\n",
      "Cluster 0.0: 0.0\n",
      "Cluster 0.0: 0.0\n",
      "Cluster 0.0034: 0.05\n",
      "Cluster 0.0082: 0.11\n",
      "Cluster 0.0: 0.0\n",
      "Cluster 0.0: 0.0\n",
      "Cluster 0.0014: 0.02\n"
     ]
    }
   ],
   "source": [
    "rwas = []\n",
    "for i in adverse_dynamic:\n",
    "    rwa = RWA(i, LGD, K)\n",
    "    print(f'Cluster {i}: {round(rwa, 2)}') # type: ignore\n",
    "    rwas.append(rwa)"
   ]
  },
  {
   "cell_type": "markdown",
   "metadata": {},
   "source": [
    "## Compute weighted average"
   ]
  },
  {
   "cell_type": "code",
   "execution_count": 6,
   "metadata": {},
   "outputs": [],
   "source": [
    "clusters = load_statistical_clusters('main')"
   ]
  },
  {
   "cell_type": "code",
   "execution_count": 7,
   "metadata": {},
   "outputs": [],
   "source": [
    "clusters_len = []\n",
    "for i in clusters:\n",
    "    clusters_len.append(i.shape[0])"
   ]
  },
  {
   "cell_type": "code",
   "execution_count": 8,
   "metadata": {},
   "outputs": [
    {
     "data": {
      "text/plain": [
       "0.17049566647505943"
      ]
     },
     "execution_count": 8,
     "metadata": {},
     "output_type": "execute_result"
    }
   ],
   "source": [
    "w_avg = sum(np.array(rwas) * np.array(clusters_len)) / sum(clusters_len)\n",
    "w_avg"
   ]
  },
  {
   "cell_type": "code",
   "execution_count": null,
   "metadata": {},
   "outputs": [],
   "source": []
  }
 ],
 "metadata": {
  "kernelspec": {
   "display_name": "Python 3",
   "language": "python",
   "name": "python3"
  },
  "language_info": {
   "codemirror_mode": {
    "name": "ipython",
    "version": 3
   },
   "file_extension": ".py",
   "mimetype": "text/x-python",
   "name": "python",
   "nbconvert_exporter": "python",
   "pygments_lexer": "ipython3",
   "version": "3.11.0"
  }
 },
 "nbformat": 4,
 "nbformat_minor": 2
}
